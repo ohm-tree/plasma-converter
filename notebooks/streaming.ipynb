{
 "cells": [
  {
   "cell_type": "code",
   "execution_count": 2,
   "metadata": {},
   "outputs": [],
   "source": [
    "import pexpect"
   ]
  },
  {
   "cell_type": "code",
   "execution_count": 3,
   "metadata": {},
   "outputs": [],
   "source": [
    "import json\n",
    "import os\n",
    "import subprocess\n",
    "import tempfile\n",
    "import time\n",
    "import traceback\n",
    "from pprint import pprint\n",
    "\n",
    "HOME_DIR = os.path.expanduser('~')\n",
    "DEFAULT_LAKE_PATH = f'{HOME_DIR}/.elan/bin/lake'\n",
    "DEFAULT_LEAN_WORKSPACE = 'mathlib4/'\n",
    "\n",
    "lake_path=DEFAULT_LAKE_PATH\n",
    "lean_workspace=DEFAULT_LEAN_WORKSPACE\n",
    "\n",
    "LEAN4_DEFAULT_HEADER = \"import Mathlib\\nimport Aesop\\n\\nset_option maxHeartbeats 0\\n\\nopen BigOperators Real Nat Topology Rat\\n\\n\"\n",
    "\n"
   ]
  },
  {
   "cell_type": "code",
   "execution_count": 4,
   "metadata": {},
   "outputs": [],
   "source": [
    "full_code = [\n",
    "    r'''import Mathlib\n",
    "import Aesop\n",
    "\n",
    "set_option maxHeartbeats 0\n",
    "set_option linter.unusedVariables false\n",
    "set_option linter.unnecessarySeqFocus false\n",
    "\n",
    "open BigOperators Real Nat Topology Rat\n",
    "\n",
    "''',\n",
    "    r'''/-- The second and fourth terms of a geometric sequence are $2$ and $6$. Which of the following is a possible first term?\n",
    "Show that it is $\\frac{2\\sqrt{3}}{3}$.-/\n",
    "theorem amc12b_2003_p6 (a r : ℝ) (u : ℕ → ℝ) (h₀ : ∀ k, u k = a * r ^ k) (h₁ : u 1 = 2)\n",
    "  (h₂ : u 3 = 6) : u 0 = 2 / Real.sqrt 3 ∨ u 0 = -(2 / Real.sqrt 3) := by\n",
    "''',\n",
    "    r'''  simp_all only [Nat.one_eq_succ_zero, Nat.zero_eq, zero_add, Nat.add_succ, Nat.add_zero,\n",
    "    Nat.succ_add]\n",
    "''',\n",
    "  r'''  have h₁' : a * r = 2 := by simpa [h₀] using h₁\n",
    "  have h₂' : a * r ^ 3 = 6 := by simpa [h₀] using h₂\n",
    "  have h₃ : r ^ 2 = 3 := by\n",
    "    nlinarith\n",
    "''',\n",
    "    r'''  have h₄ : a = 2 / Real.sqrt 3 ∨ a = -(2 / Real.sqrt 3) := by\n",
    "    apply eq_or_eq_neg_of_sq_eq_sq <;>\n",
    "    field_simp <;>\n",
    "    nlinarith\n",
    "''',\n",
    "    r'''  simpa [h₀] using h₄\n",
    "'''\n",
    "]"
   ]
  },
  {
   "cell_type": "code",
   "execution_count": 5,
   "metadata": {},
   "outputs": [
    {
     "name": "stdout",
     "output_type": "stream",
     "text": [
      "import Mathlib\n",
      "import Aesop\n",
      "\n",
      "set_option maxHeartbeats 0\n",
      "set_option linter.unusedVariables false\n",
      "set_option linter.unnecessarySeqFocus false\n",
      "\n",
      "open BigOperators Real Nat Topology Rat\n",
      "\n",
      "/-- The second and fourth terms of a geometric sequence are $2$ and $6$. Which of the following is a possible first term?\n",
      "Show that it is $\\frac{2\\sqrt{3}}{3}$.-/\n",
      "theorem amc12b_2003_p6 (a r : ℝ) (u : ℕ → ℝ) (h₀ : ∀ k, u k = a * r ^ k) (h₁ : u 1 = 2)\n",
      "  (h₂ : u 3 = 6) : u 0 = 2 / Real.sqrt 3 ∨ u 0 = -(2 / Real.sqrt 3) := by\n",
      "  simp_all only [Nat.one_eq_succ_zero, Nat.zero_eq, zero_add, Nat.add_succ, Nat.add_zero,\n",
      "    Nat.succ_add]\n",
      "  have h₁' : a * r = 2 := by simpa [h₀] using h₁\n",
      "  have h₂' : a * r ^ 3 = 6 := by simpa [h₀] using h₂\n",
      "  have h₃ : r ^ 2 = 3 := by\n",
      "    nlinarith\n",
      "  have h₄ : a = 2 / Real.sqrt 3 ∨ a = -(2 / Real.sqrt 3) := by\n",
      "    apply eq_or_eq_neg_of_sq_eq_sq <;>\n",
      "    field_simp <;>\n",
      "    nlinarith\n",
      "  simpa [h₀] using h₄\n",
      "\n"
     ]
    }
   ],
   "source": [
    "print(\"\".join(full_code))"
   ]
  },
  {
   "cell_type": "code",
   "execution_count": 7,
   "metadata": {},
   "outputs": [],
   "source": [
    "child = pexpect.spawn(f\"{lake_path} exe repl\", cwd = lean_workspace)"
   ]
  },
  {
   "cell_type": "code",
   "execution_count": 8,
   "metadata": {},
   "outputs": [],
   "source": [
    "TIMEOUT = 20\n",
    "# 20-second timeout for the Lean4 REPL"
   ]
  },
  {
   "cell_type": "code",
   "execution_count": 9,
   "metadata": {},
   "outputs": [],
   "source": [
    "def send_code_read_json(child: pexpect.spawn, cmd):\n",
    "    cmd_json = json.dumps(cmd)\n",
    "    print(cmd_json)\n",
    "    child.send(cmd_json + \"\\r\\n\")\n",
    "    # Read the input itself.\n",
    "    # This should be printed instantly, so timeout is set to 1 second.\n",
    "    child.expect_exact(cmd_json + \"\\r\\n\", timeout = 1)\n",
    "    assert child.after.decode('utf-8') == cmd_json + \"\\r\\n\"\n",
    "\n",
    "    res = \"\"\n",
    "    # while res is not a valid json string, read lines.\n",
    "    start_time = time.time()\n",
    "    while True:\n",
    "        try:\n",
    "            res = res + child.readline().decode('utf-8')\n",
    "            json.loads(res)\n",
    "            break\n",
    "        except json.JSONDecodeError:\n",
    "            pass\n",
    "        if time.time() - start_time > TIMEOUT:\n",
    "            raise TimeoutError(\"Lean4 REPL timed out.\")\n",
    "    return json.loads(res)"
   ]
  },
  {
   "cell_type": "code",
   "execution_count": 12,
   "metadata": {},
   "outputs": [
    {
     "name": "stdout",
     "output_type": "stream",
     "text": [
      "{\"cmd\": \"import Mathlib\\nimport Aesop\\n\\nset_option maxHeartbeats 0\\nset_option linter.unusedVariables false\\nset_option linter.unnecessarySeqFocus false\\n\\nopen BigOperators Real Nat Topology Rat\\n\\n\", \"allTactics\": true, \"tactics\": true}\n",
      "{\"cmd\": \"import Mathlib\\nimport Aesop\\n\\nset_option maxHeartbeats 0\\nset_option linter.unusedVariables false\\nset_option linter.unnecessarySeqFocus false\\n\\nopen BigOperators Real Nat Topology Rat\\n\\n\", \"allTactics\": true, \"tactics\": true}\n"
     ]
    }
   ],
   "source": [
    "times = []\n",
    "for i in range(10):\n",
    "    start = time.time()\n",
    "    res = send_code_read_json(\n",
    "        child,\n",
    "        {\n",
    "            \"cmd\": full_code[0],\n",
    "            \"allTactics\": True,\n",
    "            \"tactics\" : True\n",
    "        }\n",
    "    )\n",
    "    times.append(time.time() - start)\n",
    "\n",
    "mean = sum(times) / len(times)\n",
    "stdev = (sum((x - mean) ** 2 for x in times) / len(times)) ** 0.5\n",
    "print(f\"Execution time: {mean:.2f} +- {stdev:.2f} seconds\")\n",
    "# Executes in 2.4 seconds."
   ]
  },
  {
   "cell_type": "code",
   "execution_count": 1,
   "metadata": {},
   "outputs": [
    {
     "ename": "NameError",
     "evalue": "name 'send_code_read_json' is not defined",
     "output_type": "error",
     "traceback": [
      "\u001b[0;31m---------------------------------------------------------------------------\u001b[0m",
      "\u001b[0;31mNameError\u001b[0m                                 Traceback (most recent call last)",
      "Cell \u001b[0;32mIn[1], line 1\u001b[0m\n\u001b[0;32m----> 1\u001b[0m res \u001b[38;5;241m=\u001b[39m \u001b[43msend_code_read_json\u001b[49m(\n\u001b[1;32m      2\u001b[0m     child,\n\u001b[1;32m      3\u001b[0m     {\n\u001b[1;32m      4\u001b[0m         \u001b[38;5;124m\"\u001b[39m\u001b[38;5;124mcmd\u001b[39m\u001b[38;5;124m\"\u001b[39m: full_code[\u001b[38;5;241m0\u001b[39m] \u001b[38;5;241m+\u001b[39m full_code[\u001b[38;5;241m1\u001b[39m] \u001b[38;5;241m+\u001b[39m full_code[\u001b[38;5;241m2\u001b[39m] \u001b[38;5;241m+\u001b[39m full_code[\u001b[38;5;241m3\u001b[39m] \u001b[38;5;241m+\u001b[39m full_code[\u001b[38;5;241m4\u001b[39m],\n\u001b[1;32m      5\u001b[0m         \u001b[38;5;124m\"\u001b[39m\u001b[38;5;124mallTactics\u001b[39m\u001b[38;5;124m\"\u001b[39m: \u001b[38;5;28;01mTrue\u001b[39;00m,\n\u001b[1;32m      6\u001b[0m         \u001b[38;5;124m\"\u001b[39m\u001b[38;5;124mtactics\u001b[39m\u001b[38;5;124m\"\u001b[39m : \u001b[38;5;28;01mTrue\u001b[39;00m\n\u001b[1;32m      7\u001b[0m     }\n\u001b[1;32m      8\u001b[0m )\n\u001b[1;32m      9\u001b[0m res\n",
      "\u001b[0;31mNameError\u001b[0m: name 'send_code_read_json' is not defined"
     ]
    }
   ],
   "source": [
    "res = send_code_read_json(\n",
    "    child,\n",
    "    {\n",
    "        \"cmd\": full_code[0] + full_code[1]\n",
    "        \"allTactics\": True,\n",
    "        \"tactics\" : True\n",
    "    }\n",
    ")\n",
    "res"
   ]
  },
  {
   "cell_type": "code",
   "execution_count": null,
   "metadata": {},
   "outputs": [],
   "source": [
    "   'goals': 'a r : ℝ u : ℕ → ℝ h₀ : ∀ (k : ℕ), u k = a * r ^ k h₁ : u 1 = 2 h₂ : u 3 = 6 ⊢ u 0 = 2 / √3 ∨ u 0 = -(2 / √3)',\n",
    "   'goals': 'a r : ℝ u : ℕ → ℝ h₀ : ∀ (k : ℕ), u k = a * r ^ k h₁ : u 1 = 2 h₂ : u 3 = 6 ⊢ u 0 = 2 / √3 ∨ u 0 = -(2 / √3)',\n"
   ]
  },
  {
   "cell_type": "code",
   "execution_count": 309,
   "metadata": {},
   "outputs": [
    {
     "name": "stdout",
     "output_type": "stream",
     "text": [
      "{\"cmd\": \"import Mathlib\\nimport Aesop\\n\\nset_option maxHeartbeats 0\\nset_option linter.unusedVariables false\\nset_option linter.unnecessarySeqFocus false\\n\\nopen BigOperators Real Nat Topology Rat\\n\\n/-- The second and fourth terms of a geometric sequence are $2$ and $6$. Which of the following is a possible first term?\\nShow that it is $\\\\frac{2\\\\sqrt{3}}{3}$.-/\\ntheorem amc12b_2003_p6 (a r : \\u211d) (u : \\u2115 \\u2192 \\u211d) (h\\u2080 : \\u2200 k, u k = a * r ^ k) (h\\u2081 : u 1 = 2)\\n  (h\\u2082 : u 3 = 6) : u 0 = 2 / Real.sqrt 3 \\u2228 u 0 = -(2 / Real.sqrt 3) := by\\n  simp_all only [Nat.one_eq_succ_zero, Nat.zero_eq, zero_add, Nat.add_succ, Nat.add_zero,\\n    Nat.succ_add]\\n  have h\\u2081' : a * r = 2 := by simpa [h\\u2080] using h\\u2081\\n  have h\\u2082' : a * r ^ 3 = 6 := by simpa [h\\u2080] using h\\u2082\\n  have h\\u2083 : r ^ 2 = 3 := by\\n    nlinarith\\n  have h\\u2084 : a = 2 / Real.sqrt 3 \\u2228 a = -(2 / Real.sqrt 3) := by\\n    apply eq_or_eq_neg_of_sq_eq_sq <;>\\n    field_simp <;>\\n    nlinarith\\n  simpa [h\\u2080] using h\\u2084\\n\", \"allTactics\": true, \"tactics\": true}\n"
     ]
    },
    {
     "data": {
      "text/plain": [
       "{'tactics': [{'tactic': 'simp_all only [Nat.one_eq_succ_zero, Nat.zero_eq, zero_add, Nat.add_succ, Nat.add_zero, Nat.succ_add]',\n",
       "   'proofState': 0,\n",
       "   'pos': {'line': 14, 'column': 2},\n",
       "   'goals': 'a r : ℝ u : ℕ → ℝ h₀ : ∀ (k : ℕ), u k = a * r ^ k h₁ : u 1 = 2 h₂ : u 3 = 6 ⊢ u 0 = 2 / √3 ∨ u 0 = -(2 / √3)',\n",
       "   'endPos': {'line': 15, 'column': 17}},\n",
       "  {'tactic': \"have h₁' : a * r = 2 := by simpa [h₀] using h₁\",\n",
       "   'proofState': 1,\n",
       "   'pos': {'line': 16, 'column': 2},\n",
       "   'goals': 'a r : ℝ\\nu : ℕ → ℝ\\nh₀ : ∀ (k : ℕ), u k = a * r ^ k\\nh₁ : a * r ^ succ 0 = 2\\nh₂ : a * r ^ 3 = 6\\n⊢ a * r ^ 0 = 2 / √3 ∨ a * r ^ 0 = -(2 / √3)',\n",
       "   'endPos': {'line': 16, 'column': 48}},\n",
       "  {'tactic': 'simpa [h₀] using h₁',\n",
       "   'proofState': 2,\n",
       "   'pos': {'line': 16, 'column': 29},\n",
       "   'goals': 'a r : ℝ u : ℕ → ℝ h₀ : ∀ (k : ℕ), u k = a * r ^ k h₁ : a * r ^ succ 0 = 2 h₂ : a * r ^ 3 = 6 ⊢ a * r = 2',\n",
       "   'endPos': {'line': 16, 'column': 48}},\n",
       "  {'tactic': \"have h₂' : a * r ^ 3 = 6 := by simpa [h₀] using h₂\",\n",
       "   'proofState': 3,\n",
       "   'pos': {'line': 17, 'column': 2},\n",
       "   'goals': \"a r : ℝ\\nu : ℕ → ℝ\\nh₀ : ∀ (k : ℕ), u k = a * r ^ k\\nh₁ : a * r ^ succ 0 = 2\\nh₂ : a * r ^ 3 = 6\\nh₁' : a * r = 2\\n⊢ a * r ^ 0 = 2 / √3 ∨ a * r ^ 0 = -(2 / √3)\",\n",
       "   'endPos': {'line': 17, 'column': 52}},\n",
       "  {'tactic': 'simpa [h₀] using h₂',\n",
       "   'proofState': 4,\n",
       "   'pos': {'line': 17, 'column': 33},\n",
       "   'goals': \"a r : ℝ\\nu : ℕ → ℝ\\nh₀ : ∀ (k : ℕ), u k = a * r ^ k\\nh₁ : a * r ^ succ 0 = 2\\nh₂ : a * r ^ 3 = 6\\nh₁' : a * r = 2\\n⊢ a * r ^ 3 = 6\",\n",
       "   'endPos': {'line': 17, 'column': 52}},\n",
       "  {'tactic': 'have h₃ : r ^ 2 = 3 := by nlinarith',\n",
       "   'proofState': 5,\n",
       "   'pos': {'line': 18, 'column': 2},\n",
       "   'goals': \"a r : ℝ\\nu : ℕ → ℝ\\nh₀ : ∀ (k : ℕ), u k = a * r ^ k\\nh₁ : a * r ^ succ 0 = 2\\nh₂ : a * r ^ 3 = 6\\nh₁' : a * r = 2\\nh₂' : a * r ^ 3 = 6\\n⊢ a * r ^ 0 = 2 / √3 ∨ a * r ^ 0 = -(2 / √3)\",\n",
       "   'endPos': {'line': 19, 'column': 13}},\n",
       "  {'tactic': 'nlinarith',\n",
       "   'proofState': 6,\n",
       "   'pos': {'line': 19, 'column': 4},\n",
       "   'goals': \"a r : ℝ\\nu : ℕ → ℝ\\nh₀ : ∀ (k : ℕ), u k = a * r ^ k\\nh₁ : a * r ^ succ 0 = 2\\nh₂ : a * r ^ 3 = 6\\nh₁' : a * r = 2\\nh₂' : a * r ^ 3 = 6\\n⊢ r ^ 2 = 3\",\n",
       "   'endPos': {'line': 19, 'column': 13}},\n",
       "  {'tactic': 'have h₄ : a = 2 / Real.sqrt 3 ∨ a = -(2 / Real.sqrt 3) := by apply eq_or_eq_neg_of_sq_eq_sq <;> field_simp <;> nlinarith',\n",
       "   'proofState': 7,\n",
       "   'pos': {'line': 20, 'column': 2},\n",
       "   'goals': \"a r : ℝ\\nu : ℕ → ℝ\\nh₀ : ∀ (k : ℕ), u k = a * r ^ k\\nh₁ : a * r ^ succ 0 = 2\\nh₂ : a * r ^ 3 = 6\\nh₁' : a * r = 2\\nh₂' : a * r ^ 3 = 6\\nh₃ : r ^ 2 = 3\\n⊢ a * r ^ 0 = 2 / √3 ∨ a * r ^ 0 = -(2 / √3)\",\n",
       "   'endPos': {'line': 23, 'column': 13}},\n",
       "  {'tactic': 'apply eq_or_eq_neg_of_sq_eq_sq',\n",
       "   'proofState': 8,\n",
       "   'pos': {'line': 21, 'column': 4},\n",
       "   'goals': \"a r : ℝ\\nu : ℕ → ℝ\\nh₀ : ∀ (k : ℕ), u k = a * r ^ k\\nh₁ : a * r ^ succ 0 = 2\\nh₂ : a * r ^ 3 = 6\\nh₁' : a * r = 2\\nh₂' : a * r ^ 3 = 6\\nh₃ : r ^ 2 = 3\\n⊢ a = 2 / √3 ∨ a = -(2 / √3)\",\n",
       "   'endPos': {'line': 21, 'column': 34}},\n",
       "  {'tactic': 'field_simp',\n",
       "   'proofState': 9,\n",
       "   'pos': {'line': 22, 'column': 4},\n",
       "   'goals': \"case a\\na r : ℝ\\nu : ℕ → ℝ\\nh₀ : ∀ (k : ℕ), u k = a * r ^ k\\nh₁ : a * r ^ succ 0 = 2\\nh₂ : a * r ^ 3 = 6\\nh₁' : a * r = 2\\nh₂' : a * r ^ 3 = 6\\nh₃ : r ^ 2 = 3\\n⊢ a ^ 2 = (2 / √3) ^ 2\",\n",
       "   'endPos': {'line': 22, 'column': 14}},\n",
       "  {'tactic': 'nlinarith',\n",
       "   'proofState': 10,\n",
       "   'pos': {'line': 23, 'column': 4},\n",
       "   'goals': \"case a\\na r : ℝ\\nu : ℕ → ℝ\\nh₀ : ∀ (k : ℕ), u k = a * r ^ k\\nh₁ : a * r ^ succ 0 = 2\\nh₂ : a * r ^ 3 = 6\\nh₁' : a * r = 2\\nh₂' : a * r ^ 3 = 6\\nh₃ : r ^ 2 = 3\\n⊢ a ^ 2 * 3 = 2 ^ 2\",\n",
       "   'endPos': {'line': 23, 'column': 13}},\n",
       "  {'tactic': 'simpa [h₀] using h₄',\n",
       "   'proofState': 11,\n",
       "   'pos': {'line': 24, 'column': 2},\n",
       "   'goals': \"a r : ℝ\\nu : ℕ → ℝ\\nh₀ : ∀ (k : ℕ), u k = a * r ^ k\\nh₁ : a * r ^ succ 0 = 2\\nh₂ : a * r ^ 3 = 6\\nh₁' : a * r = 2\\nh₂' : a * r ^ 3 = 6\\nh₃ : r ^ 2 = 3\\nh₄ : a = 2 / √3 ∨ a = -(2 / √3)\\n⊢ a * r ^ 0 = 2 / √3 ∨ a * r ^ 0 = -(2 / √3)\",\n",
       "   'endPos': {'line': 24, 'column': 21}}],\n",
       " 'env': 0,\n",
       " 'ast': []}"
      ]
     },
     "execution_count": 309,
     "metadata": {},
     "output_type": "execute_result"
    }
   ],
   "source": []
  },
  {
   "cell_type": "code",
   "execution_count": 287,
   "metadata": {},
   "outputs": [
    {
     "name": "stdout",
     "output_type": "stream",
     "text": [
      "{\"cmd\": \"  have h\\u2081' : a * r = 2 := by simpa [h\\u2080] using h\\u2081\\n  have h\\u2082' : a * r ^ 3 = 6 := by simpa [h\\u2080] using h\\u2082\\n  have h\\u2083 : r ^ 2 = 3 := by\\n    nlinarith\\n\", \"env\": 0}\n"
     ]
    },
    {
     "data": {
      "text/plain": [
       "{'messages': [{'severity': 'error',\n",
       "   'pos': {'line': 1, 'column': 2},\n",
       "   'endPos': {'line': 1, 'column': 6},\n",
       "   'data': \"unexpected token 'have'; expected command\"}],\n",
       " 'env': 1,\n",
       " 'ast': []}"
      ]
     },
     "execution_count": 287,
     "metadata": {},
     "output_type": "execute_result"
    }
   ],
   "source": [
    "res = send_code_read_json(\n",
    "    child,\n",
    "    {\n",
    "        \"cmd\": full_code[2],\n",
    "        \"env\" : 0\n",
    "    }\n",
    ")\n",
    "res"
   ]
  },
  {
   "cell_type": "code",
   "execution_count": 276,
   "metadata": {},
   "outputs": [
    {
     "name": "stdout",
     "output_type": "stream",
     "text": [
      "{\"tactic\": \"  simp_all only [Nat.one_eq_succ_zero, Nat.zero_eq, zero_add, Nat.add_succ, Nat.add_zero,\\n    Nat.succ_add]\\n\", \"proofState\": 0}\n"
     ]
    },
    {
     "data": {
      "text/plain": [
       "{'proofState': 2,\n",
       " 'goals': ['a r : ℝ\\nu : ℕ → ℝ\\nh₀ : ∀ (k : ℕ), u k = a * r ^ k\\nh₁ : a * r ^ succ 0 = 2\\nh₂ : a * r ^ 3 = 6\\n⊢ a * r ^ 0 = 2 / √3 ∨ a * r ^ 0 = -(2 / √3)']}"
      ]
     },
     "execution_count": 276,
     "metadata": {},
     "output_type": "execute_result"
    }
   ],
   "source": [
    "res = send_code_read_json(\n",
    "    child,\n",
    "    {\n",
    "        \"tactic\": full_code[1],\n",
    "        \"proofState\" : 0\n",
    "    }\n",
    ")\n",
    "res"
   ]
  },
  {
   "cell_type": "code",
   "execution_count": 278,
   "metadata": {},
   "outputs": [
    {
     "name": "stdout",
     "output_type": "stream",
     "text": [
      "{\"tactic\": \"  have h\\u2081' : a * r = 2 := by simpa [h\\u2080] using h\\u2081\\n  have h\\u2082' : a * r ^ 3 = 6 := by simpa [h\\u2080] using h\\u2082\\n  have h\\u2083 : r ^ 2 = 3 := by\\n    nlinarith\\n\", \"proofState\": 2}\n"
     ]
    },
    {
     "data": {
      "text/plain": [
       "{'message': 'Lean error:\\n<input>:2:2: expected end of input'}"
      ]
     },
     "execution_count": 278,
     "metadata": {},
     "output_type": "execute_result"
    }
   ],
   "source": [
    "res = send_code_read_json(\n",
    "    child,\n",
    "    {\n",
    "        \"tactic\": full_code[2],\n",
    "        \"proofState\" : 2\n",
    "    }\n",
    ")\n",
    "res"
   ]
  },
  {
   "cell_type": "code",
   "execution_count": null,
   "metadata": {},
   "outputs": [],
   "source": []
  },
  {
   "cell_type": "code",
   "execution_count": null,
   "metadata": {},
   "outputs": [],
   "source": []
  }
 ],
 "metadata": {
  "kernelspec": {
   "display_name": "pytorch",
   "language": "python",
   "name": "python3"
  },
  "language_info": {
   "codemirror_mode": {
    "name": "ipython",
    "version": 3
   },
   "file_extension": ".py",
   "mimetype": "text/x-python",
   "name": "python",
   "nbconvert_exporter": "python",
   "pygments_lexer": "ipython3",
   "version": "3.10.14"
  }
 },
 "nbformat": 4,
 "nbformat_minor": 2
}
