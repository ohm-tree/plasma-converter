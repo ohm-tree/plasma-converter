{
 "cells": [
  {
   "cell_type": "code",
   "execution_count": null,
   "metadata": {},
   "outputs": [],
   "source": [
    "import ast\n",
    "import json\n",
    "import re\n",
    "from pathlib import Path"
   ]
  },
  {
   "cell_type": "code",
   "execution_count": null,
   "metadata": {},
   "outputs": [],
   "source": [
    "src = \"/home/ubuntu/ohm-tree-filesys-az/plasma-converter\"\n",
    "run_name = \"valid_proper_comments_2024-10-31_18-57-11\""
   ]
  },
  {
   "cell_type": "code",
   "execution_count": null,
   "metadata": {},
   "outputs": [],
   "source": [
    "/home/ubuntu/ohm-tree-filesys-az/plasma-converter/results/valid_proper_comments_2024-10-31_18-57-11"
   ]
  },
  {
   "cell_type": "code",
   "execution_count": null,
   "metadata": {},
   "outputs": [],
   "source": [
    "solved_problems = []\n",
    "\n",
    "for file_path in Path(src + \"/results/\" + run_name).iterdir():\n",
    "    if file_path.is_file() and file_path.name.endswith(\".txt\"):\n",
    "        with open(file_path, 'r') as file:\n",
    "            lines = file.readlines()\n",
    "            if lines[-1] == \"Result: 1.0\\n\":\n",
    "                # append the name of the file without extension\n",
    "                solved_problems.append(file_path.stem)"
   ]
  },
  {
   "cell_type": "code",
   "execution_count": null,
   "metadata": {},
   "outputs": [],
   "source": [
    "def parse_tree_txt_to_dict(file_path):\n",
    "    # Read the file contents\n",
    "    with open(file_path, 'r') as file:\n",
    "        content = file.read()\n",
    "\n",
    "    # Split the content by double dashed lines\n",
    "    sections = [sec.strip() for sec in content.split('--------------------------------------------------------------------------------\\n' * 2) if sec.strip()]\n",
    "\n",
    "    # print(\"section 0\", sections[0])\n",
    "    # Initialize a list to store parsed dictionaries\n",
    "    parsed_data = []\n",
    "    kv_pattern = re.compile(r\"^\\s*(\\w.*?)\\s*\\|\\s*(.*)$\")\n",
    "\n",
    "    # Define regex patterns to parse key-value pairs and LeanState blocks\n",
    "\n",
    "    for section in sections:\n",
    "        lines = section.splitlines()\n",
    "        result = {}\n",
    "        \n",
    "        \n",
    "        for line in lines:\n",
    "            kv_match = kv_pattern.match(line)\n",
    "            # Match lines with `key | value` format\n",
    "            if line.startswith(\"LeanState\"):\n",
    "                lean_state_pattern = re.compile(\n",
    "                    r\"code=['\\\"](.*?)['\\\"],\\s*\"\n",
    "                    r'depth=(\\d+),\\s*'\n",
    "                    r\"tactic_state=['\\\"](.*?)['\\\"],\\s*\"\n",
    "                    r'dead=(True|False)\\s*$',\n",
    "                    re.DOTALL\n",
    "                )\n",
    "                lean_state_match = lean_state_pattern.search(line[len(\"LeanState(\"):-1])\n",
    "                # print(line[len(\"LeanState(\"):-1])\n",
    "                \n",
    "                if lean_state_match:\n",
    "                    code = lean_state_match.group(1)\n",
    "                    depth = lean_state_match.group(2)\n",
    "                    tactic_state = lean_state_match.group(3)\n",
    "                    dead = lean_state_match.group(4)\n",
    "\n",
    "                    code = code.replace('\\\\n', '\\n')\n",
    "                    tactic_state = tactic_state.replace('\\\\n', '\\n')\n",
    "                    \n",
    "                    result['LeanState'] = {\n",
    "                        'code': code,\n",
    "                        'depth': int(depth),\n",
    "                        'tactic_state': tactic_state,\n",
    "                        'dead': dead == 'True'\n",
    "                    }\n",
    "            elif kv_match:\n",
    "                key, value = kv_match.groups()\n",
    "                key = key.strip()  # Remove extra spaces around the key\n",
    "                value = value.strip()  # Remove extra spaces around the value\n",
    "                \n",
    "                # Convert value to appropriate type\n",
    "                if value.startswith(\"[\") and value.endswith(\"]\"):  # Detect arrays\n",
    "                    # Convert to a list of floats or ints\n",
    "                    value = [float(v) if '.' in v else int(v) for v in re.findall(r\"[-+]?\\d*\\.\\d+|\\d+\", value)]\n",
    "                elif value.startswith(\"(\") and value.endswith(\")\"):  # Detect tuples\n",
    "                    value = ast.literal_eval(value)\n",
    "                elif value.isdigit():  # Convert to integer if it's a digit\n",
    "                    value = int(value)\n",
    "                else:\n",
    "                    try:\n",
    "                        value = float(value)  # Try converting to float\n",
    "                    except ValueError:\n",
    "                        pass  # Keep as string if not a float\n",
    "                \n",
    "                # Add to the dictionary\n",
    "                result[key] = value\n",
    "        \n",
    "        # Append the parsed dictionary to the list\n",
    "        parsed_data.append(result)\n",
    "\n",
    "    return parsed_data"
   ]
  },
  {
   "cell_type": "code",
   "execution_count": null,
   "metadata": {},
   "outputs": [],
   "source": [
    "# TEST above\n",
    "file_path = \"/home/ubuntu/ohm-tree-filesys-az/plasma-converter/outputs/valid_proper_comments_2024-10-31_18-57-11/aime_1987_p8_tree.txt\"\n",
    "data = parse_tree_txt_to_dict(file_path)\n",
    "\n",
    "# Display the parsed data (TEST)\n",
    "for idx, section in enumerate(data):\n",
    "    print(f\"Section {idx + 1}:\")\n",
    "    for key, value in section.items():\n",
    "        print(f\"  {key}: {value}\")\n",
    "\n",
    "    print()"
   ]
  }
 ],
 "metadata": {
  "kernelspec": {
   "display_name": "Python 3",
   "language": "python",
   "name": "python3"
  },
  "language_info": {
   "name": "python",
   "version": "3.10.12"
  }
 },
 "nbformat": 4,
 "nbformat_minor": 2
}
