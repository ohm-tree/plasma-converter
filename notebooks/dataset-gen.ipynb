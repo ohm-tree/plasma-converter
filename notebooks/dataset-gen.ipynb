{
 "cells": [
  {
   "cell_type": "markdown",
   "metadata": {},
   "source": [
    "Create a dataset of all theorems proved.\n",
    "\n",
    "Each row has \n",
    "- theorem: str\n",
    "- source: str\n",
    "- proof: str\n",
    "- summary of proof: str "
   ]
  }
 ],
 "metadata": {
  "language_info": {
   "name": "python"
  }
 },
 "nbformat": 4,
 "nbformat_minor": 2
}
