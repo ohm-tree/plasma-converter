{
 "cells": [
  {
   "cell_type": "code",
   "execution_count": 1,
   "metadata": {},
   "outputs": [
    {
     "name": "stderr",
     "output_type": "stream",
     "text": [
      "2024-11-04 03:44:05.175837: E external/local_xla/xla/stream_executor/cuda/cuda_fft.cc:485] Unable to register cuFFT factory: Attempting to register factory for plugin cuFFT when one has already been registered\n",
      "2024-11-04 03:44:05.266302: E external/local_xla/xla/stream_executor/cuda/cuda_dnn.cc:8463] Unable to register cuDNN factory: Attempting to register factory for plugin cuDNN when one has already been registered\n",
      "2024-11-04 03:44:05.293321: E external/local_xla/xla/stream_executor/cuda/cuda_blas.cc:1452] Unable to register cuBLAS factory: Attempting to register factory for plugin cuBLAS when one has already been registered\n",
      "/usr/lib/python3/dist-packages/scipy/__init__.py:146: UserWarning: A NumPy version >=1.17.3 and <1.25.0 is required for this version of SciPy (detected version 1.26.4\n",
      "  warnings.warn(f\"A NumPy version >={np_minversion} and <{np_maxversion}\"\n"
     ]
    }
   ],
   "source": [
    "from vllm import LLM, RequestOutput, SamplingParams"
   ]
  },
  {
   "cell_type": "code",
   "execution_count": 2,
   "metadata": {},
   "outputs": [
    {
     "name": "stdout",
     "output_type": "stream",
     "text": [
      "INFO 11-04 03:44:25 llm_engine.py:226] Initializing an LLM engine (v0.6.1.dev238+ge2c6e0a82) with config: model='deepseek-ai/DeepSeek-Prover-V1.5-RL', speculative_config=None, tokenizer='deepseek-ai/DeepSeek-Prover-V1.5-RL', skip_tokenizer_init=False, tokenizer_mode=auto, revision=None, override_neuron_config=None, rope_scaling=None, rope_theta=None, tokenizer_revision=None, trust_remote_code=True, dtype=torch.bfloat16, max_seq_len=4096, download_dir=None, load_format=LoadFormat.AUTO, tensor_parallel_size=1, pipeline_parallel_size=1, disable_custom_all_reduce=False, quantization=None, enforce_eager=False, kv_cache_dtype=auto, quantization_param_path=None, device_config=cuda, decoding_config=DecodingConfig(guided_decoding_backend='outlines'), observability_config=ObservabilityConfig(otlp_traces_endpoint=None, collect_model_forward_time=False, collect_model_execute_time=False), seed=0, served_model_name=deepseek-ai/DeepSeek-Prover-V1.5-RL, use_v2_block_manager=False, num_scheduler_steps=1, multi_step_stream_outputs=False, enable_prefix_caching=False, use_async_output_proc=True, use_cached_outputs=False, mm_processor_kwargs=None)\n"
     ]
    },
    {
     "data": {
      "application/vnd.jupyter.widget-view+json": {
       "model_id": "f6f7fcb2d4b74aca85399ce4a750df3f",
       "version_major": 2,
       "version_minor": 0
      },
      "text/plain": [
       "tokenizer_config.json:   0%|          | 0.00/1.59k [00:00<?, ?B/s]"
      ]
     },
     "metadata": {},
     "output_type": "display_data"
    },
    {
     "data": {
      "application/vnd.jupyter.widget-view+json": {
       "model_id": "6de42cfb073044f586970c4d2405b391",
       "version_major": 2,
       "version_minor": 0
      },
      "text/plain": [
       "tokenizer.json:   0%|          | 0.00/4.61M [00:00<?, ?B/s]"
      ]
     },
     "metadata": {},
     "output_type": "display_data"
    },
    {
     "name": "stdout",
     "output_type": "stream",
     "text": [
      "INFO 11-04 03:44:30 model_runner.py:1014] Starting to load model deepseek-ai/DeepSeek-Prover-V1.5-RL...\n",
      "INFO 11-04 03:44:30 weight_utils.py:242] Using model weights format ['*.safetensors']\n"
     ]
    },
    {
     "data": {
      "application/vnd.jupyter.widget-view+json": {
       "model_id": "52d3163276784c46a4b10a7c5695f6a4",
       "version_major": 2,
       "version_minor": 0
      },
      "text/plain": [
       "model-00002-of-000002.safetensors:  44%|####4     | 2.32G/5.23G [00:00<?, ?B/s]"
      ]
     },
     "metadata": {},
     "output_type": "display_data"
    },
    {
     "data": {
      "application/vnd.jupyter.widget-view+json": {
       "model_id": "e3aea01e3ebf45d1a3c8f7a0822a4dc7",
       "version_major": 2,
       "version_minor": 0
      },
      "text/plain": [
       "Loading safetensors checkpoint shards:   0% Completed | 0/2 [00:00<?, ?it/s]\n"
      ]
     },
     "metadata": {},
     "output_type": "display_data"
    },
    {
     "name": "stdout",
     "output_type": "stream",
     "text": [
      "INFO 11-04 03:45:44 model_runner.py:1025] Loading model weights took 12.8725 GB\n",
      "INFO 11-04 03:45:45 gpu_executor.py:122] # GPU blocks: 2893, # CPU blocks: 546\n",
      "INFO 11-04 03:45:52 model_runner.py:1329] Capturing the model for CUDA graphs. This may lead to unexpected consequences if the model is not static. To run the model in eager mode, set 'enforce_eager=True' or use '--enforce-eager' in the CLI.\n",
      "INFO 11-04 03:45:52 model_runner.py:1333] CUDA graphs can take additional 1~3 GiB memory per GPU. If you are running out of memory, consider decreasing `gpu_memory_utilization` or enforcing eager mode. You can also reduce the `max_num_seqs` as needed to decrease memory usage.\n",
      "INFO 11-04 03:46:09 model_runner.py:1456] Graph capturing finished in 18 secs.\n"
     ]
    }
   ],
   "source": [
    "LLM_params = {\n",
    "    \"model\": \"deepseek-ai/DeepSeek-Prover-V1.5-RL\",\n",
    "    \"max_num_batched_tokens\": 8192,\n",
    "    \"trust_remote_code\": True,\n",
    "}\n",
    "llm = LLM(**LLM_params)"
   ]
  },
  {
   "cell_type": "code",
   "execution_count": 11,
   "metadata": {},
   "outputs": [
    {
     "name": "stdout",
     "output_type": "stream",
     "text": [
      "Complete the following Lean 4 code with explanatory comments.\n",
      "```lean4\n",
      "import Mathlib\n",
      "import Aesop\n",
      "\n",
      "set_option maxHeartbeats 50000\n",
      "set_option linter.all false\n",
      "open BigOperators Real Nat Topology Rat\n",
      "\n",
      "\n",
      "/-- For what real value of $k$ is $\\frac{13-\\sqrt{131}}{4}$ a root of $2x^2-13x+k$? Show that it is $\\frac{19}{4}$.-/\n",
      "theorem mathd_algebra_116 (k x : ℝ) (h₀ : x = (13 - Real.sqrt 131) / 4)\n",
      "    (h₁ : 2 * x ^ 2 - 13 * x + k = 0) : k = 19 / 4 := by\n",
      "\n",
      "\n"
     ]
    },
    {
     "name": "stderr",
     "output_type": "stream",
     "text": [
      "Processed prompts: 100%|██████████| 1/1 [00:04<00:00,  4.73s/it, est. speed input: 41.05 toks/s, output: 77.23 toks/s]\n"
     ]
    }
   ],
   "source": [
    "sampling_params = SamplingParams(**{\n",
    "    \"max_tokens\": 1024,\n",
    "    \"temperature\": 0.0,\n",
    "    \"top_k\": 1,\n",
    "    \"top_p\": 1.0,\n",
    "    \"n\": 1,\n",
    "    \"logprobs\": True,\n",
    "})\n",
    "input_data = 'Complete the following Lean 4 code with explanatory comments.\\n```lean4\\nimport Mathlib\\nimport Aesop\\n\\nset_option maxHeartbeats 50000\\nset_option linter.all false\\nopen BigOperators Real Nat Topology Rat\\n\\n\\n/-- For what real value of $k$ is $\\\\frac{13-\\\\sqrt{131}}{4}$ a root of $2x^2-13x+k$? Show that it is $\\\\frac{19}{4}$.-/\\ntheorem mathd_algebra_116 (k x : ℝ) (h₀ : x = (13 - Real.sqrt 131) / 4)\\n    (h₁ : 2 * x ^ 2 - 13 * x + k = 0) : k = 19 / 4 := by\\n\\n'\n",
    "print(input_data)\n",
    "out = llm.generate(\n",
    "    prompts=input_data,\n",
    "    sampling_params=sampling_params,\n",
    "    use_tqdm=True,\n",
    ")"
   ]
  },
  {
   "cell_type": "code",
   "execution_count": 17,
   "metadata": {},
   "outputs": [
    {
     "name": "stdout",
     "output_type": "stream",
     "text": [
      "dict_keys(['request_id', 'prompt', 'prompt_token_ids', 'prompt_logprobs', 'outputs', 'finished', 'metrics', 'lora_request', 'encoder_prompt', 'encoder_prompt_token_ids'])\n"
     ]
    }
   ],
   "source": [
    "print(out[0].__dict__.keys())"
   ]
  },
  {
   "cell_type": "code",
   "execution_count": 22,
   "metadata": {},
   "outputs": [
    {
     "name": "stdout",
     "output_type": "stream",
     "text": [
      "  /-\n",
      "  Given \\( x = \\frac{13 - \\sqrt{131}}{4} \\) and \\( 2x^2 - 13x + k = 0 \\), we need to find the value of \\( k \\).\n",
      "  1. Substitute \\( x = \\frac{13 - \\sqrt{131}}{4} \\) into the equation \\( 2x^2 - 13x + k = 0 \\).\n",
      "  2. Simplify the equation by clearing the fraction and expanding the terms.\n",
      "  3. Use the identity \\( (\\sqrt{131})^2 = 131 \\) to simplify the equation further.\n",
      "  4. Solve for \\( k \\) by isolating it on one side of the equation.\n",
      "  -/\n",
      "  -- Substitute the given value of x into the equation.\n",
      "  rw [h₀] at h₁\n",
      "  -- Clear the fraction by multiplying through by 4.\n",
      "  field_simp\n",
      "  -- Expand and simplify the equation.\n",
      "  ring_nf at h₁\n",
      "  /- The equation now is:\n",
      "     -169 / 8 + √131 ^ 2 * (1 / 8) + k = 0\n",
      "  -/\n",
      "  -- Simplify further using the identity (√131)^2 = 131.\n",
      "  field_simp at h₁\n",
      "  -- Normalize the numerical values.\n",
      "  norm_num at h₁\n",
      "  -- Rearrange the equation to solve for k.\n",
      "  rw [eq_comm]\n",
      "  -- Use linear arithmetic to solve for k.\n",
      "  linarith\n",
      "```\n"
     ]
    }
   ],
   "source": [
    "print(out[0].outputs[0].text)"
   ]
  },
  {
   "cell_type": "code",
   "execution_count": 27,
   "metadata": {},
   "outputs": [
    {
     "data": {
      "text/plain": [
       "dict_keys(['index', 'text', 'token_ids', 'cumulative_logprob', 'logprobs', 'finish_reason', 'stop_reason', 'lora_request'])"
      ]
     },
     "execution_count": 27,
     "metadata": {},
     "output_type": "execute_result"
    }
   ],
   "source": [
    "out[0].outputs[0].__dict__.keys()"
   ]
  },
  {
   "cell_type": "code",
   "execution_count": 29,
   "metadata": {},
   "outputs": [
    {
     "data": {
      "text/plain": [
       "[{207: Logprob(logprob=-0.006903250236064196, rank=1, decoded_token=' ')},\n",
       " {893: Logprob(logprob=-0.048611968755722046, rank=1, decoded_token=' /')},\n",
       " {12: Logprob(logprob=-1.5497195136049413e-06, rank=1, decoded_token='-')},\n",
       " {185: Logprob(logprob=-4.768370445162873e-07, rank=1, decoded_token='\\n')},\n",
       " {207: Logprob(logprob=0.0, rank=1, decoded_token=' ')},\n",
       " {16199: Logprob(logprob=-0.0067267161794006824, rank=1, decoded_token=' Given')},\n",
       " {12837: Logprob(logprob=-0.3066086769104004, rank=1, decoded_token=' \\\\(')},\n",
       " {1376: Logprob(logprob=-1.1324817933200393e-05, rank=1, decoded_token=' x')},\n",
       " {403: Logprob(logprob=0.0, rank=1, decoded_token=' =')},\n",
       " {357: Logprob(logprob=0.0, rank=1, decoded_token=' \\\\')}]"
      ]
     },
     "execution_count": 29,
     "metadata": {},
     "output_type": "execute_result"
    }
   ],
   "source": [
    "out[0].outputs[0].logprobs[:10]"
   ]
  },
  {
   "cell_type": "code",
   "execution_count": 59,
   "metadata": {},
   "outputs": [],
   "source": [
    "def truncate(snippet: str) -> str:\n",
    "    new_code = snippet\n",
    "    if new_code.endswith('```'):\n",
    "        new_code = new_code[:-3]\n",
    "\n",
    "    lines = new_code.split('\\n')\n",
    "    def start_of_comment(line: str) -> bool:\n",
    "        # get the first character that's not a space\n",
    "        strip_str = line.lstrip()\n",
    "        first_non_space = strip_str[0] if strip_str else ''\n",
    "        return first_non_space in ['/', '-']\n",
    "    for i in range(1, len(lines)):\n",
    "        if start_of_comment(lines[i]) and not start_of_comment(lines[i-1]):\n",
    "            new_code = '\\n'.join(lines[:i]) + '\\n'\n",
    "            break\n",
    "    return new_code"
   ]
  },
  {
   "cell_type": "markdown",
   "metadata": {},
   "source": [
    "Beam search"
   ]
  },
  {
   "cell_type": "code",
   "execution_count": 35,
   "metadata": {},
   "outputs": [
    {
     "name": "stdout",
     "output_type": "stream",
     "text": [
      "VLLM_ALLOW_DEPRECATED_BEAM_SEARCH: 1\n"
     ]
    }
   ],
   "source": [
    "import os\n",
    "\n",
    "# Set the environment variable\n",
    "os.environ[\"VLLM_ALLOW_DEPRECATED_BEAM_SEARCH\"] = \"1\"\n",
    "\n",
    "# Verify that it's set correctly (optional)\n",
    "print(\"VLLM_ALLOW_DEPRECATED_BEAM_SEARCH:\", os.getenv(\"VLLM_ALLOW_DEPRECATED_BEAM_SEARCH\"))"
   ]
  },
  {
   "cell_type": "code",
   "execution_count": 55,
   "metadata": {},
   "outputs": [
    {
     "name": "stdout",
     "output_type": "stream",
     "text": [
      "Complete the following Lean 4 code with explanatory comments.\n",
      "```lean4\n",
      "import Mathlib\n",
      "import Aesop\n",
      "\n",
      "set_option maxHeartbeats 50000\n",
      "set_option linter.all false\n",
      "open BigOperators Real Nat Topology Rat\n",
      "\n",
      "\n",
      "/-- What is the sum of the four positive factors of the positive integer value of $\\sqrt{196}$? Show that it is 24.-/\n",
      "theorem mathd_numbertheory_35 (S : Finset ℕ) (h₀ : ∀ n : ℕ, n ∣ Nat.sqrt 196) :\n",
      "    (∑ k in S, k) = 24 := by\n",
      "\n",
      "\n",
      "  /-- Tactic state:\n",
      "  S : Finset ℕ\n",
      "  h₀ : ∀ (n : ℕ), n ∣ Nat.sqrt 196\n",
      "  ⊢ ∑ k ∈ S, k = 24\n",
      "  -/\n",
      "\n",
      "  --\n"
     ]
    },
    {
     "name": "stderr",
     "output_type": "stream",
     "text": [
      "Processed prompts: 100%|██████████| 1/1 [00:01<00:00,  2.00s/it, est. speed input: 115.28 toks/s, output: 250.60 toks/s]\n"
     ]
    }
   ],
   "source": [
    "sampling_params = SamplingParams(**{\n",
    "    \"max_tokens\": 100,\n",
    "    \"temperature\": 0.0,\n",
    "    \"top_k\": -1,\n",
    "    \"top_p\": 1.0,\n",
    "    \"n\": 5,\n",
    "    \"logprobs\": True,\n",
    "    \"use_beam_search\": True\n",
    "})\n",
    "input_data = 'Complete the following Lean 4 code with explanatory comments.\\n```lean4\\nimport Mathlib\\nimport Aesop\\n\\nset_option maxHeartbeats 50000\\nset_option linter.all false\\nopen BigOperators Real Nat Topology Rat\\n\\n\\n/-- What is the sum of the four positive factors of the positive integer value of $\\\\sqrt{196}$? Show that it is 24.-/\\ntheorem mathd_numbertheory_35 (S : Finset ℕ) (h₀ : ∀ n : ℕ, n ∣ Nat.sqrt 196) :\\n    (∑ k in S, k) = 24 := by\\n\\n\\n  /-- Tactic state:\\n  S : Finset ℕ\\n  h₀ : ∀ (n : ℕ), n ∣ Nat.sqrt 196\\n  ⊢ ∑ k ∈ S, k = 24\\n  -/\\n\\n  --'\n",
    "print(input_data)\n",
    "out = llm.generate(\n",
    "    prompts=input_data,\n",
    "    sampling_params=sampling_params,\n",
    "    use_tqdm=True,\n",
    ")"
   ]
  },
  {
   "cell_type": "code",
   "execution_count": 56,
   "metadata": {},
   "outputs": [
    {
     "name": "stdout",
     "output_type": "stream",
     "text": [
      "Complete the following Lean 4 code with explanatory comments.\n",
      "```lean4\n",
      "import Mathlib\n",
      "import Aesop\n",
      "\n",
      "set_option maxHeartbeats 50000\n",
      "set_option linter.all false\n",
      "open BigOperators Real Nat Topology Rat\n",
      "\n",
      "\n",
      "/-- What is the sum of the four positive factors of the positive integer value of $\\sqrt{196}$? Show that it is 24.-/\n",
      "theorem mathd_numbertheory_35 (S : Finset ℕ) (h₀ : ∀ n : ℕ, n ∣ Nat.sqrt 196) :\n",
      "    (∑ k in S, k) = 24 := by\n",
      "\n",
      "\n",
      "  /-- Tactic state:\n",
      "  S : Finset ℕ\n",
      "  h₀ : ∀ (n : ℕ), n ∣ Nat.sqrt 196\n",
      "  ⊢ ∑ k ∈ S, k = 24\n",
      "  -/\n",
      "\n",
      "  --\n"
     ]
    }
   ],
   "source": [
    "print(input_data)"
   ]
  },
  {
   "cell_type": "code",
   "execution_count": 57,
   "metadata": {},
   "outputs": [
    {
     "name": "stdout",
     "output_type": "stream",
     "text": [
      " We know that the square root of 196 is 14.\n",
      "  have h₁ : Nat.sqrt 196 = 14 := by norm_num\n",
      "  -- Rewrite the goal using the fact that the square root of 196 is 14.\n",
      "  rw [h₁] at h₀\n",
      "  -- The positive factors of 14 are 1, 2, 7, and 14.\n",
      "\n",
      "--------------------------------------------------------------------------------\n",
      " We know that the square root of 196 is 14.\n",
      "  have h₁ : Nat.sqrt 196 = 14 := by norm_num\n",
      "  -- Rewrite the goal using the fact that the square root of 196 is 14.\n",
      "  rw [h₁] at h₀ ⊢\n",
      "  -- The positive factors of 14 are 1, 2, 7, and \n",
      "--------------------------------------------------------------------------------\n",
      " We need to show that the sum of the factors of the square root of 196 is 24.\n",
      "  -- First, we calculate the square root of 196, which is 14.\n",
      "  -- The positive factors of 14 are 1, 2, 7, and 14.\n",
      "  -- We sum these factors: 1 + 2 + 7 + 14 = 24.\n",
      "  simpa\n",
      "--------------------------------------------------------------------------------\n",
      " We need to show that the sum of the factors of the square root of 196 is 24.\n",
      "  -- First, we calculate the square root of 196, which is 14.\n",
      "  -- The positive factors of 14 are 1, 2, 7, and 14.\n",
      "  -- We need to sum these factors: 1 + 2 + 7 + 14 = 24.\n",
      " \n",
      "--------------------------------------------------------------------------------\n",
      " We know that the positive factors of the positive integer value of \\(\\sqrt{196}\\) are 1, 2, 4, 7, 14, and 28.\n",
      "  have h₁ : ∀ n : ℕ, n ∣ Nat.sqrt 196 := h₀\n",
      "  -- Simplify the expression using the fact that \\(\\sqrt{196} = 14\\).\n",
      "  simpa [\n",
      "--------------------------------------------------------------------------------\n"
     ]
    }
   ],
   "source": [
    "for i in range(5):\n",
    "    print(out[0].outputs[i].text)\n",
    "    print('-' * 80)"
   ]
  },
  {
   "cell_type": "code",
   "execution_count": 60,
   "metadata": {},
   "outputs": [],
   "source": [
    "snippets = [truncate(out[0].outputs[i].text) for i in range(5)]"
   ]
  },
  {
   "cell_type": "code",
   "execution_count": 77,
   "metadata": {},
   "outputs": [
    {
     "data": {
      "text/plain": [
       "[Logprob(logprob=-0.31686216592788696, rank=1, decoded_token=' We')]"
      ]
     },
     "execution_count": 77,
     "metadata": {},
     "output_type": "execute_result"
    }
   ],
   "source": [
    "list(out[0].outputs[0].logprobs[:20][0].values())"
   ]
  },
  {
   "cell_type": "code",
   "execution_count": 79,
   "metadata": {},
   "outputs": [
    {
     "name": "stdout",
     "output_type": "stream",
     "text": [
      "[' We know that the square root of 196 is 14.\\n  have h₁ : Nat.sqrt 196 = 14 := by norm_num\\n', ' We know that the square root of 196 is 14.\\n  have h₁ : Nat.sqrt 196 = 14 := by norm_num\\n', ' We need to show that the sum of the factors of the square root of 196 is 24.\\n', ' We need to show that the sum of the factors of the square root of 196 is 24.\\n', ' We know that the positive factors of the positive integer value of \\\\(\\\\sqrt{196}\\\\) are 1, 2, 4, 7, 14, and 28.\\n  have h₁ : ∀ n : ℕ, n ∣ Nat.sqrt 196 := h₀\\n']\n",
      "[-3.200847765470698, -3.200847765470698, -2.3386666488338435, -2.3386666488338435, -4.80659925507922]\n"
     ]
    }
   ],
   "source": [
    "# get logprobs of each snippet\n",
    "# get the truncated prefix of each snippet and add the corresponding prefix of output logprobs\n",
    "logprobs = []\n",
    "for i in range(5):\n",
    "    snippet = snippets[i]\n",
    "    cum_logprob = 0\n",
    "    prefix = ''\n",
    "    for completion in out[0].outputs[i].logprobs:\n",
    "        x = list(completion.values())[0]\n",
    "        prefix += x.decoded_token\n",
    "        cum_logprob += x.logprob\n",
    "        if prefix == snippet:\n",
    "            break\n",
    "    logprobs.append(cum_logprob)\n",
    "\n",
    "print(snippets)\n",
    "print(logprobs)"
   ]
  }
 ],
 "metadata": {
  "kernelspec": {
   "display_name": "Python 3",
   "language": "python",
   "name": "python3"
  },
  "language_info": {
   "codemirror_mode": {
    "name": "ipython",
    "version": 3
   },
   "file_extension": ".py",
   "mimetype": "text/x-python",
   "name": "python",
   "nbconvert_exporter": "python",
   "pygments_lexer": "ipython3",
   "version": "3.10.12"
  }
 },
 "nbformat": 4,
 "nbformat_minor": 2
}
