{
 "cells": [
  {
   "cell_type": "markdown",
   "metadata": {},
   "source": [
    "The goal of this notebook is to prove the theorem here: /home/ubuntu/ohm-tree-filesys/plasma-converter/logs/minif2f-valid-one-step_2024-10-18_19-23-18\n",
    "\n",
    "```------------------------------------Problem-------------------------------------\n",
    "/-- Determine the value of $ab$ if $\\log_8a+\\log_4b^2=5$ and $\\log_8b+\\log_4a^2=7$. Show that it is 512.-/\n",
    "theorem aime_1984_p5 (a b : ℝ) (h₀ : Real.logb 8 a + Real.logb 4 (b ^ 2) = 5)\n",
    "  (h₁ : Real.logb 8 b + Real.logb 4 (a ^ 2) = 7) : a * b = 512 := by```"
   ]
  },
  {
   "cell_type": "code",
   "execution_count": 1,
   "metadata": {},
   "outputs": [],
   "source": [
    "from typing import Optional, Tuple\n",
    "\n",
    "import numpy as np\n",
    "import torch\n",
    "import torch.nn as nn\n",
    "import torch.nn.functional as F\n",
    "from transformers import AutoModelForCausalLM, AutoTokenizer"
   ]
  },
  {
   "cell_type": "code",
   "execution_count": 2,
   "metadata": {},
   "outputs": [
    {
     "data": {
      "application/vnd.jupyter.widget-view+json": {
       "model_id": "7e4100e1eb364c30a31d83b775ba235d",
       "version_major": 2,
       "version_minor": 0
      },
      "text/plain": [
       "config.json:   0%|          | 0.00/699 [00:00<?, ?B/s]"
      ]
     },
     "metadata": {},
     "output_type": "display_data"
    },
    {
     "data": {
      "application/vnd.jupyter.widget-view+json": {
       "model_id": "d3a0530e599148e8892c6e2a90448367",
       "version_major": 2,
       "version_minor": 0
      },
      "text/plain": [
       "model.safetensors.index.json:   0%|          | 0.00/22.7k [00:00<?, ?B/s]"
      ]
     },
     "metadata": {},
     "output_type": "display_data"
    },
    {
     "data": {
      "application/vnd.jupyter.widget-view+json": {
       "model_id": "1882a016a317435e9fb91c78323d6c3d",
       "version_major": 2,
       "version_minor": 0
      },
      "text/plain": [
       "Downloading shards:   0%|          | 0/2 [00:00<?, ?it/s]"
      ]
     },
     "metadata": {},
     "output_type": "display_data"
    },
    {
     "data": {
      "application/vnd.jupyter.widget-view+json": {
       "model_id": "bb6fcc68e8d24eec9166fb4a56f22f17",
       "version_major": 2,
       "version_minor": 0
      },
      "text/plain": [
       "model-00001-of-000002.safetensors:   0%|          | 0.00/8.59G [00:00<?, ?B/s]"
      ]
     },
     "metadata": {},
     "output_type": "display_data"
    },
    {
     "data": {
      "application/vnd.jupyter.widget-view+json": {
       "model_id": "8b189eb0f6b64ee58cb04a8d1c6d386f",
       "version_major": 2,
       "version_minor": 0
      },
      "text/plain": [
       "model-00002-of-000002.safetensors:   0%|          | 0.00/5.23G [00:00<?, ?B/s]"
      ]
     },
     "metadata": {},
     "output_type": "display_data"
    },
    {
     "data": {
      "application/vnd.jupyter.widget-view+json": {
       "model_id": "879c857aa6714f719f75f799b4619377",
       "version_major": 2,
       "version_minor": 0
      },
      "text/plain": [
       "Loading checkpoint shards:   0%|          | 0/2 [00:00<?, ?it/s]"
      ]
     },
     "metadata": {},
     "output_type": "display_data"
    }
   ],
   "source": [
    "model = AutoModelForCausalLM = AutoModelForCausalLM.from_pretrained(\n",
    "    'deepseek-ai/DeepSeek-Prover-V1.5-RL',\n",
    "    trust_remote_code=True,\n",
    "    device_map='auto'\n",
    ")"
   ]
  },
  {
   "cell_type": "code",
   "execution_count": 3,
   "metadata": {},
   "outputs": [
    {
     "data": {
      "application/vnd.jupyter.widget-view+json": {
       "model_id": "970971d1055c4652b1e799269bf7b7f3",
       "version_major": 2,
       "version_minor": 0
      },
      "text/plain": [
       "tokenizer_config.json:   0%|          | 0.00/1.59k [00:00<?, ?B/s]"
      ]
     },
     "metadata": {},
     "output_type": "display_data"
    },
    {
     "data": {
      "application/vnd.jupyter.widget-view+json": {
       "model_id": "66d753110cd046d59e4a2fa8c53983bc",
       "version_major": 2,
       "version_minor": 0
      },
      "text/plain": [
       "tokenizer.json:   0%|          | 0.00/4.61M [00:00<?, ?B/s]"
      ]
     },
     "metadata": {},
     "output_type": "display_data"
    }
   ],
   "source": [
    "tokenizer = AutoTokenizer.from_pretrained(\n",
    "    'deepseek-ai/DeepSeek-Prover-V1.5-RL',\n",
    "    trust_remote_code=True\n",
    ")"
   ]
  },
  {
   "cell_type": "code",
   "execution_count": 4,
   "metadata": {},
   "outputs": [],
   "source": [
    "tokenizer.pad_token = tokenizer.eos_token"
   ]
  },
  {
   "cell_type": "code",
   "execution_count": 5,
   "metadata": {},
   "outputs": [],
   "source": [
    "def tokenize(prompt: str) -> Tuple[torch.Tensor, torch.Tensor]:\n",
    "        tokens = tokenizer(\n",
    "            prompt, return_tensors='pt', padding=True, truncation=True).to(\"cuda\")\n",
    "        return tokens['input_ids'], tokens['attention_mask']"
   ]
  },
  {
   "cell_type": "code",
   "execution_count": 6,
   "metadata": {},
   "outputs": [],
   "source": [
    "def complete(input_ids, attention_mask, max_length=1000):\n",
    "    return model.generate(\n",
    "        input_ids,\n",
    "        attention_mask=attention_mask,\n",
    "        max_length=input_ids.shape[1] + max_length\n",
    "    )"
   ]
  },
  {
   "cell_type": "code",
   "execution_count": 7,
   "metadata": {},
   "outputs": [],
   "source": [
    "prompt = \"\"\"/-- Determine the value of $ab$ if $\\log_8a+\\log_4b^2=5$ and $\\log_8b+\\log_4a^2=7$. Show that it is 512.-/\n",
    "theorem aime_1984_p5 (a b : ℝ) (h₀ : Real.logb 8 a + Real.logb 4 (b ^ 2) = 5)\n",
    "  (h₁ : Real.logb 8 b + Real.logb 4 (a ^ 2) = 7) : a * b = 512 := by\"\"\""
   ]
  },
  {
   "cell_type": "code",
   "execution_count": 8,
   "metadata": {},
   "outputs": [
    {
     "name": "stderr",
     "output_type": "stream",
     "text": [
      "Setting `pad_token_id` to `eos_token_id`:None for open-end generation.\n",
      "Starting from v4.46, the `logits` model output will have the same type as the model (except at train time, where it will always be FP32)\n"
     ]
    }
   ],
   "source": [
    "input_ids, attention_mask = tokenize(prompt)\n",
    "output_tokens = complete(input_ids, attention_mask)"
   ]
  },
  {
   "cell_type": "code",
   "execution_count": 9,
   "metadata": {},
   "outputs": [],
   "source": [
    "completed_proof = tokenizer.decode(output_tokens[0], skip_special_tokens=True)"
   ]
  },
  {
   "cell_type": "code",
   "execution_count": 10,
   "metadata": {},
   "outputs": [
    {
     "name": "stdout",
     "output_type": "stream",
     "text": [
      "/-- Determine the value of $ab$ if $\\log_8a+\\log_4b^2=5$ and $\\log_8b+\\log_4a^2=7$. Show that it is 512.-/\n",
      "theorem aime_1984_p5 (a b : ℝ) (h₀ : Real.logb 8 a + Real.logb 4 (b ^ 2) = 5)\n",
      "  (h₁ : Real.logb 8 b + Real.logb 4 (a ^ 2) = 7) : a * b = 512 := by\n",
      "  have h₂ : a > 0 := by\n",
      "    have h₂ := h₀\n",
      "    have h₃ := h₁\n",
      "    linarith [Real.logb_nonneg 8 a, Real.logb_nonneg 4 (b ^ 2), Real.logb_nonneg 8 b,\n",
      "      Real.logb_nonneg 4 (a ^ 2)]\n",
      "  have h₃ : b > 0 := by\n",
      "    have h₂ := h₀\n",
      "    have h₃ := h₁\n",
      "    linarith [Real.logb_nonneg 8 a, Real.logb_nonneg 4 (b ^ 2), Real.logb_nonneg 8 b,\n",
      "      Real.logb_nonneg 4 (a ^ 2)]\n",
      "  field_simp [Real.logb, Real.log_rpow] at h₀ h₁\n",
      "  linarith\n",
      "```\n"
     ]
    }
   ],
   "source": [
    "print(completed_proof)"
   ]
  },
  {
   "cell_type": "code",
   "execution_count": 11,
   "metadata": {},
   "outputs": [],
   "source": [
    "def prove(prompt):\n",
    "    input_ids, attention_mask = tokenize(prompt)\n",
    "    output_tokens = complete(input_ids, attention_mask)\n",
    "    completed_proofs = [tokenizer.decode(output_tokens[i], skip_special_tokens=True) for i in range(len(output_tokens))]\n",
    "    return completed_proofs"
   ]
  },
  {
   "cell_type": "code",
   "execution_count": 12,
   "metadata": {},
   "outputs": [],
   "source": [
    "prompt_comments = \"\"\"Complete the following Lean 4 code with explanatory comments.\n",
    "import Mathlib\n",
    "import Aesop\n",
    "\n",
    "set_option maxHeartbeats 0\n",
    "\n",
    "open BigOperators Real Nat Topology Rat \n",
    "/-- Determine the value of $ab$ if $\\log_8a+\\log_4b^2=5$ and $\\log_8b+\\log_4a^2=7$. Show that it is 512.-/\n",
    "theorem aime_1984_p5 (a b : ℝ) (h₀ : Real.logb 8 a + Real.logb 4 (b ^ 2) = 5)\n",
    "  (h₁ : Real.logb 8 b + Real.logb 4 (a ^ 2) = 7) : a * b = 512 := by\n",
    "  \"\"\""
   ]
  },
  {
   "cell_type": "code",
   "execution_count": 13,
   "metadata": {},
   "outputs": [
    {
     "name": "stderr",
     "output_type": "stream",
     "text": [
      "Setting `pad_token_id` to `eos_token_id`:None for open-end generation.\n"
     ]
    },
    {
     "name": "stdout",
     "output_type": "stream",
     "text": [
      "['Complete the following Lean 4 code with explanatory comments.\\nimport Mathlib\\nimport Aesop\\n\\nset_option maxHeartbeats 0\\n\\nopen BigOperators Real Nat Topology Rat \\n/-- Determine the value of $ab$ if $\\\\log_8a+\\\\log_4b^2=5$ and $\\\\log_8b+\\\\log_4a^2=7$. Show that it is 512.-/\\ntheorem aime_1984_p5 (a b : ℝ) (h₀ : Real.logb 8 a + Real.logb 4 (b ^ 2) = 5)\\n  (h₁ : Real.logb 8 b + Real.logb 4 (a ^ 2) = 7) : a * b = 512 := by\\n  \\n  /-\\n  Given the equations \\\\(\\\\log_8 a + \\\\log_4 b^2 = 5\\\\) and \\\\(\\\\log_8 b + \\\\log_4 a^2 = 7\\\\), we need to determine the value of \\\\(ab\\\\).\\n  \\n  1. Rewrite the equations using properties of logarithms:\\n     \\\\[\\n     \\\\log_8 a + 2 \\\\log_4 b = 5\\n     \\\\]\\n     \\\\[\\n     \\\\log_8 b + 2 \\\\log_4 a = 7\\n     \\\\]\\n  \\n  2. Convert the logarithms to base 2:\\n     \\\\[\\n     \\\\log_8 a = \\\\frac{\\\\log_2 a}{\\\\log_2 8} = \\\\frac{\\\\log_2 a}{3}\\n     \\\\]\\n     \\\\[\\n     \\\\log_4 b = \\\\frac{\\\\log_2 b}{\\\\log_2 4} = \\\\frac{\\\\log_2 b}{2}\\n     \\\\]\\n  \\n  3. Substitute these into the equations:\\n     \\\\[\\n     \\\\frac{\\\\log_2 a}{3} + 2 \\\\cdot \\\\frac{\\\\log_2 b}{2} = 5\\n     \\\\]\\n     \\\\[\\n     \\\\frac{\\\\log_2 b}{3} + 2 \\\\cdot \\\\frac{\\\\log_2 a}{2} = 7\\n     \\\\]\\n  \\n  4. Simplify the equations:\\n     \\\\[\\n     \\\\frac{\\\\log_2 a}{3} + \\\\log_2 b = 5\\n     \\\\]\\n     \\\\[\\n     \\\\frac{\\\\log_2 b}{3} + \\\\log_2 a = 7\\n     \\\\]\\n  \\n  5. Multiply both equations by 3 to clear the fractions:\\n     \\\\[\\n     \\\\log_2 a + 3 \\\\log_2 b = 15\\n     \\\\]\\n     \\\\[\\n     \\\\log_2 b + 3 \\\\log_2 a = 21\\n     \\\\]\\n  \\n  6. Solve the system of linear equations:\\n     \\\\[\\n     \\\\log_2 a + 3 \\\\log_2 b = 15\\n     \\\\]\\n     \\\\[\\n     \\\\log_2 b + 3 \\\\log_2 a = 21\\n     \\\\]\\n  \\n  7. Multiply the first equation by 3:\\n     \\\\[\\n     3 \\\\log_2 a + 9 \\\\log_2 b = 45\\n     \\\\]\\n  \\n  8. Subtract the second equation from this result:\\n     \\\\[\\n     (3 \\\\log_2 a + 9 \\\\log_2 b) - (\\\\log_2 b + 3 \\\\log_2 a) = 45 - 21\\n     \\\\]\\n     \\\\[\\n     8 \\\\log_2 b = 24\\n     \\\\]\\n     \\\\[\\n     \\\\log_2 b = 3\\n     \\\\]\\n  \\n  9. Substitute \\\\(\\\\log_2 b = 3\\\\) back into one of the original equations:\\n     \\\\[\\n     \\\\log_2 a + 3 \\\\cdot 3 = 15\\n     \\\\]\\n     \\\\[\\n     \\\\log_2 a + 9 = 15\\n     \\\\]\\n     \\\\[\\n     \\\\log_2 a = 6\\n     \\\\]\\n  \\n  10. Calculate \\\\(ab\\\\):\\n      \\\\[\\n      a = 2^6 = 64\\n      \\\\]\\n      \\\\[\\n      b = 2^3 = 8\\n      \\\\]\\n      \\\\[\\n      ab = 64 \\\\cdot 8 = 512\\n      \\\\]\\n  -/\\n  have h₂ : a * b = 512 := by\\n    -- Rewrite the equations using properties of logarithms\\n    simp only [Real.logb, Real.log_rpow, mul_add, mul_comm] at h₀ h₁\\n    -- Convert the logarithms to base 2 and simplify\\n    ring_nf at h₀ h₁\\n    -- Solve the system of linear equations\\n    field_simp at h₀ h₁\\n    ring_nf at h₀ h₁\\n    nlinarith\\n  exact h₂\\n```']\n"
     ]
    }
   ],
   "source": [
    "proosf = prove(prompt_comments)\n",
    "print(proofs[0])"
   ]
  },
  {
   "cell_type": "code",
   "execution_count": 24,
   "metadata": {},
   "outputs": [],
   "source": [
    "prompt_summarize = \"\"\"```import Mathlib\n",
    "import Aesop\n",
    "\n",
    "set_option maxHeartbeats 0\n",
    "\n",
    "open BigOperators Real Nat Topology Rat\n",
    "\n",
    "/-- Simplify $(a-1)(a+1)(a+2) - (a-2)(a+1).$ Show that it is a^3 + a^2.-/\n",
    "theorem mathd_algebra_568 (a : ℝ) :\n",
    "    (a - 1) * (a + 1) * (a + 2) - (a - 2) * (a + 1) = a ^ 3 + a ^ 2 := by\n",
    "  -- Expand and simplify the expression using algebraic rules.\n",
    "  ring_nf```\n",
    "\n",
    "Summarize this lean proof in English:\n",
    "\"\"\""
   ]
  },
  {
   "cell_type": "code",
   "execution_count": 25,
   "metadata": {},
   "outputs": [
    {
     "name": "stderr",
     "output_type": "stream",
     "text": [
      "Setting `pad_token_id` to `eos_token_id`:None for open-end generation.\n"
     ]
    },
    {
     "name": "stdout",
     "output_type": "stream",
     "text": [
      "['```import Mathlib\\nimport Aesop\\n\\nset_option maxHeartbeats 0\\n\\nopen BigOperators Real Nat Topology Rat\\n\\n/-- Simplify $(a-1)(a+1)(a+2) - (a-2)(a+1).$ Show that it is a^3 + a^2.-/\\ntheorem mathd_algebra_568 (a : ℝ) :\\n    (a - 1) * (a + 1) * (a + 2) - (a - 2) * (a + 1) = a ^ 3 + a ^ 2 := by\\n  -- Expand and simplify the expression using algebraic rules.\\n  ring_nf```\\n\\nSummarize this lean proof in English:\\nThe theorem states that for any real number \\\\( a \\\\), the expression \\\\((a-1)(a+1)(a+2) - (a-2)(a+1)\\\\) simplifies to \\\\( a^3 + a^2 \\\\). The proof uses the `ring_nf` tactic to expand and simplify the expression, applying algebraic rules to achieve the desired form.']\n"
     ]
    }
   ],
   "source": [
    "proofs = prove(prompt_summarize)\n",
    "print(proofs)"
   ]
  },
  {
   "cell_type": "code",
   "execution_count": 26,
   "metadata": {},
   "outputs": [
    {
     "name": "stdout",
     "output_type": "stream",
     "text": [
      "```import Mathlib\n",
      "import Aesop\n",
      "\n",
      "set_option maxHeartbeats 0\n",
      "\n",
      "open BigOperators Real Nat Topology Rat\n",
      "\n",
      "/-- Simplify $(a-1)(a+1)(a+2) - (a-2)(a+1).$ Show that it is a^3 + a^2.-/\n",
      "theorem mathd_algebra_568 (a : ℝ) :\n",
      "    (a - 1) * (a + 1) * (a + 2) - (a - 2) * (a + 1) = a ^ 3 + a ^ 2 := by\n",
      "  -- Expand and simplify the expression using algebraic rules.\n",
      "  ring_nf```\n",
      "\n",
      "Summarize this lean proof in English:\n",
      "The theorem states that for any real number \\( a \\), the expression \\((a-1)(a+1)(a+2) - (a-2)(a+1)\\) simplifies to \\( a^3 + a^2 \\). The proof uses the `ring_nf` tactic to expand and simplify the expression, applying algebraic rules to achieve the desired form.\n"
     ]
    }
   ],
   "source": [
    "print(proofs[0])"
   ]
  }
 ],
 "metadata": {
  "kernelspec": {
   "display_name": "Python 3",
   "language": "python",
   "name": "python3"
  },
  "language_info": {
   "codemirror_mode": {
    "name": "ipython",
    "version": 3
   },
   "file_extension": ".py",
   "mimetype": "text/x-python",
   "name": "python",
   "nbconvert_exporter": "python",
   "pygments_lexer": "ipython3",
   "version": "3.10.12"
  }
 },
 "nbformat": 4,
 "nbformat_minor": 2
}
