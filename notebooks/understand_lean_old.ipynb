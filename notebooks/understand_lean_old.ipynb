{
 "cells": [
  {
   "cell_type": "markdown",
   "metadata": {},
   "source": [
    "# Let's understand lean.\n"
   ]
  },
  {
   "cell_type": "code",
   "execution_count": 1,
   "metadata": {},
   "outputs": [],
   "source": [
    "import os\n",
    "import time\n",
    "import json\n",
    "import ctypes\n",
    "import tempfile\n",
    "import traceback\n",
    "import threading\n",
    "import subprocess\n",
    "import multiprocessing as mp\n",
    "from pprint import pprint\n",
    "\n",
    "import numpy as np\n",
    "\n",
    "\n",
    "HOME_DIR = os.path.expanduser('~')\n",
    "DEFAULT_LAKE_PATH = f'{HOME_DIR}/.elan/bin/lake'\n",
    "DEFAULT_LEAN_WORKSPACE = 'mathlib4/'\n"
   ]
  },
  {
   "cell_type": "code",
   "execution_count": 2,
   "metadata": {},
   "outputs": [],
   "source": [
    "def verify_lean4_file(code, lake_path=DEFAULT_LAKE_PATH, lean_workspace=DEFAULT_LEAN_WORKSPACE, last_env=None, verbose=False, timeout=300, allTactics=False, ast=False, premises=False, tactics=False):\n",
    "    command = dict(cmd=code, allTactics=allTactics, ast=ast, tactics=tactics, premises=premises)\n",
    "    if last_env is not None:\n",
    "        command.update(env=last_env)\n",
    "    message_str = json.dumps(command, ensure_ascii=False)\n",
    "    if verbose:\n",
    "        print(message_str)\n",
    "    start_time = time.time()\n",
    "    system_messages = ''\n",
    "    try:\n",
    "        with tempfile.TemporaryFile(mode='w+', encoding='utf-8') as temp_file:\n",
    "            temp_file.write(message_str + \"\\r\\n\\r\\n\")\n",
    "            temp_file.seek(0)\n",
    "            # print(\"cwd:\", os.getcwd())\n",
    "            # print(\"lean_workspace exists?\", os.path.exists(lean_workspace))\n",
    "            outputs = subprocess.run([lake_path, \"exe\", 'repl'], stdin=temp_file, capture_output=True, text=True, cwd=lean_workspace, timeout=timeout, encoding='utf-8')\n",
    "        result = json.loads(outputs.stdout)\n",
    "        ast_results = lean4_parser(code, result['ast']) if 'ast' in result and result['ast'] else {}\n",
    "        result = {\n",
    "            \"sorries\" : result.get('sorries', []), \n",
    "            \"tactics\" : result.get('tactics', []),\n",
    "            \"errors\" : [m for m in result.get('messages', []) if m['severity'] == 'error'],\n",
    "            \"warnings\" : [m for m in result.get('messages', []) if m['severity'] == 'warning'],\n",
    "            \"infos\" : [m for m in result.get('messages', []) if m['severity'] == 'info'],\n",
    "            \"system_messages\" : system_messages,\n",
    "            \"system_errors\" : None,\n",
    "            \"ast\" : ast_results,\n",
    "            \"verified_code\" : code,\n",
    "        }\n",
    "        result['pass'] = not result['errors']\n",
    "        result['complete'] = result['pass'] and not result['sorries'] and not any(\"declaration uses 'sorry'\" in warning['data'] or 'failed' in warning['data'] for warning in result['warnings'])\n",
    "    except:\n",
    "        result = {\n",
    "            \"pass\": False,\n",
    "            \"complete\": False,\n",
    "            \"system_errors\": traceback.format_exc(),\n",
    "            \"system_messages\": system_messages\n",
    "        }\n",
    "    result['verify_time'] = time.time() - start_time\n",
    "    return result"
   ]
  },
  {
   "cell_type": "code",
   "execution_count": null,
   "metadata": {},
   "outputs": [],
   "source": []
  }
 ],
 "metadata": {
  "kernelspec": {
   "display_name": ".venv",
   "language": "python",
   "name": "python3"
  },
  "language_info": {
   "codemirror_mode": {
    "name": "ipython",
    "version": 3
   },
   "file_extension": ".py",
   "mimetype": "text/x-python",
   "name": "python",
   "nbconvert_exporter": "python",
   "pygments_lexer": "ipython3",
   "version": "3.10.14"
  }
 },
 "nbformat": 4,
 "nbformat_minor": 2
}
