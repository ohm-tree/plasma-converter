{
 "cells": [
  {
   "cell_type": "code",
   "execution_count": 7,
   "metadata": {},
   "outputs": [
    {
     "name": "stdout",
     "output_type": "stream",
     "text": [
      "Number of files containing 'Win: True': 33\n"
     ]
    }
   ],
   "source": [
    "import os\n",
    "\n",
    "def count_files_with_string(directory, search_string):\n",
    "    \"\"\"Counts the number of text files in the given directory that contain the specified string.\"\"\"\n",
    "    count = 0\n",
    "\n",
    "    # Loop through all files in the specified directory\n",
    "    for root, dirs, files in os.walk(directory):\n",
    "        for file_name in files:\n",
    "            # Process only .txt files\n",
    "            if file_name.endswith(\".log\"):\n",
    "                file_path = os.path.join(root, file_name)\n",
    "                \n",
    "                # Open the file and search for the string\n",
    "                with open(file_path, 'r', encoding='utf-8') as file:\n",
    "                    content = file.read()\n",
    "                    # print(\"content\")\n",
    "                    \n",
    "                    # Check if the search string is in the file content\n",
    "                    if search_string in content:\n",
    "                        count += 1\n",
    "\n",
    "    return count\n",
    "\n",
    "# Directory to search through\n",
    "directory = '/home/ubuntu/ohm-tree-filesys-tokyo/plasma-converter/logs/minif2f-valid-one-step_2024-10-15_04-58-47'\n",
    "\n",
    "# The string to search for\n",
    "search_string = \"Win: True\"\n",
    "\n",
    "# Get the count of files with the specified string\n",
    "file_count = count_files_with_string(directory, search_string)\n",
    "\n",
    "# Output the result\n",
    "print(f\"Number of files containing '{search_string}': {file_count}\")"
   ]
  }
 ],
 "metadata": {
  "kernelspec": {
   "display_name": "Python 3",
   "language": "python",
   "name": "python3"
  },
  "language_info": {
   "codemirror_mode": {
    "name": "ipython",
    "version": 3
   },
   "file_extension": ".py",
   "mimetype": "text/x-python",
   "name": "python",
   "nbconvert_exporter": "python",
   "pygments_lexer": "ipython3",
   "version": "3.10.12"
  }
 },
 "nbformat": 4,
 "nbformat_minor": 2
}
