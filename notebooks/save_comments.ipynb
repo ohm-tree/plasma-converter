{
 "cells": [
  {
   "cell_type": "code",
   "execution_count": 2,
   "metadata": {},
   "outputs": [],
   "source": [
    "import json\n",
    "import random"
   ]
  },
  {
   "cell_type": "code",
   "execution_count": 6,
   "metadata": {},
   "outputs": [
    {
     "name": "stdout",
     "output_type": "stream",
     "text": [
      "['Look for patterns or regularities in the problem.\\n', 'Consider simplifying the problem or working with a special case.\\n', 'Use mathematical induction for proofs involving integers.\\n', 'Assume the opposite to prove by contradiction.\\n', 'Identify invariants that remain constant during transformations.\\n', 'Break the problem into smaller, more manageable parts.\\n', 'Use the contrapositive form of statements for proof.\\n', 'Simplify complex expressions through algebraic manipulation.\\n', 'Apply Cauchy-Schwarz.\\n', 'Look for opportunities to factor expressions.\\n', 'Use symmetry to reduce the complexity of the problem.\\n', 'Check the parity (odd or even nature) of numbers involved.\\n', 'Apply the Law of Sines or Cosines where appropriate.\\n', 'Set up equations based on the given conditions.\\n', 'Explore recursive patterns in sequences.\\n', \"Use Vieta's formulas relating roots and coefficients of polynomials.\\n\", 'Apply modular arithmetic in number theory problems.\\n', 'Employ combinatorial arguments in counting scenarios.\\n', 'Use the Principle of Inclusion-Exclusion in overlapping sets.\\n', 'Use substitution to simplify expressions or equations.\\n', 'Consider the Triangle Inequality in problems involving distances.\\n', 'Use the Rearrangement Inequality to compare sums.\\n', 'Use properties of exponents and logarithms in algebra.\\n', 'Employ telescoping sums to simplify series.\\n', 'Utilize properties of arithmetic, geometric, or harmonic sequences.\\n', \"Consider the use of Fermat's Last Theorem in special cases.\\n\", 'Use properties of quadratic equations and discriminants.\\n', 'Employ the Rational Root Theorem for polynomials.\\n', 'Utilize the Euclidean Algorithm to find greatest common divisors.\\n', 'Consider constructing an auxiliary function or sequence.\\n', 'Use properties of functions like injectivity or surjectivity.\\n', 'Apply the method of exhaustion by checking all possible cases.\\n', 'Use factorization techniques in algebraic problems.\\n', 'Use base cases effectively in induction proofs.\\n', 'Employ the use of inequality chains to reach conclusions.\\n', 'Consider symmetrizing an expression to simplify it.\\n', 'Use the AM-HM inequality in appropriate contexts.\\n', 'Apply direct proof methods where applicable.\\n', 'Utilize the use of sequences defined by recurrence relations.\\n', 'Consider the method of finite differences in sequences.\\n', 'Employ grouping strategies in simplifying expressions.\\n', 'Use divisibility properties in number theory proofs.\\n', 'Apply properties of modular arithmetic in solving equations.\\n', 'Utilize the sum and product of roots in quadratic equations.\\n', 'Consider the use of algebraic identities to simplify expressions.\\n', 'Employ properties of progressions in sequence problems.\\n', 'Employ techniques of completing the square in algebra.\\n', 'Apply logical deduction to eliminate impossible cases.\\n', 'Notice that the left-hand side factors into a sum of squares.\\n', 'Observe that the equation is symmetric in \\\\(x\\\\) and \\\\(y\\\\).\\n', 'Recognize that substituting \\\\(y = kx\\\\) simplifies the equation.\\n', 'Factor the quadratic expression by grouping terms.\\n', 'Identify that the polynomial can be factored using the difference of cubes.\\n', 'Complete the square to transform the quadratic into vertex form.\\n', 'Realize that both sides of the equation are perfect squares.\\n', 'Apply the AM-GM inequality to the given expression.\\n', 'Spot that the expression simplifies when \\\\(x = y\\\\).\\n', 'Notice that the denominator can be rationalized to simplify the fraction.\\n', 'Observe that adding a specific term completes a known identity.\\n', 'Use substitution \\\\(u = x + y\\\\) and \\\\(v = x - y\\\\) to simplify.\\n', 'Identify that the expression represents a geometric sequence.\\n', 'Recognize that expanding \\\\((x + y)^2\\\\) aids in simplifying the equation.\\n', 'Factor the expression as a product of binomials.\\n', 'Notice that both sides have a common factor that can be canceled out.\\n', 'Identify that the equation represents a conic section (e.g., circle, ellipse).\\n', 'Realize that setting \\\\(x = 0\\\\) or \\\\(y = 0\\\\) provides useful insights.\\n', 'Spot that the equation can be rewritten as a difference of squares.\\n', 'Apply the quadratic formula to solve for one variable in terms of the other.\\n', 'Observe that the expression is a telescoping product or sum.\\n', 'Recognize that the equation simplifies when expressed in exponential form.\\n', 'Notice that the LHS can be expressed as a binomial coefficient.\\n', 'Use the identity \\\\(a^2 - b^2 = (a - b)(a + b)\\\\) to factor.\\n', 'Identify that substituting \\\\(z = x/y\\\\) leads to a simpler equation.\\n', 'Spot that the equation can be rearranged into a linear form.\\n', 'Recognize that the expression is a geometric mean of two terms.\\n', 'Notice that the equation simplifies under the assumption \\\\(x + y = k\\\\).\\n', 'Apply the method of undetermined coefficients to find particular solutions.\\n', 'Identify that the equation represents an arithmetic sequence.\\n', 'Realize that multiplying both sides by a common denominator simplifies fractions.\\n', 'Spot that the expression can be rewritten using the distributive property.\\n', 'Use the binomial expansion to simplify higher power terms.\\n', \"Observe that substituting \\\\(t = x^2\\\\) reduces the equation's degree.\\n\", 'Recognize that the LHS is a telescoping product that collapses when expanded.\\n', 'Notice that both sides can be expressed as polynomials in \\\\(x\\\\).\\n', 'Identify that the expression represents a linear combination of variables.\\n', 'Realize that factoring out the greatest common divisor (GCD) simplifies the expression.\\n', 'Spot that the equation can be transformed into a homogeneous equation.\\n', 'Apply logarithms to both sides to linearize exponential relationships.\\n', 'Recognize that the expression is a rational function that can be simplified.\\n', 'Notice that squaring both sides eliminates square roots in the equation.\\n', 'Identify that the equation can be expressed as a product of linear terms.\\n', 'Use the substitution \\\\(x = \\\\frac{1}{t}\\\\) to simplify reciprocal expressions.\\n', 'Spot that the LHS can be rewritten using the distributive property over addition.\\n', 'Realize that expanding the product leads to cancellation of terms.\\n', 'Observe that the equation represents a linear system that can be solved by elimination.\\n', 'Recognize that the expression can be transformed using the identity \\\\((a + b)^3\\\\).\\n', 'Notice that substituting \\\\(x = y + k\\\\) aligns variables for easier manipulation.\\n', 'Identify that the equation can be expressed as a rational equation by cross-multiplication.\\n', 'Observe that both sides of the equation are even, implying divisibility by 2.\\n', 'Recognize that the number must be a prime based on given conditions.\\n', 'Use modular arithmetic to reduce the problem modulo a small prime.\\n', 'Identify that applying the Euclidean algorithm finds the greatest common divisor (GCD).\\n', 'Notice that the equation can be expressed in terms of congruences.\\n', 'Apply Fermat’s Little Theorem to simplify exponents modulo a prime.\\n', 'Realize that the Chinese Remainder Theorem can solve the system of congruences.\\n', 'Spot that the number is a perfect square based on its prime factorization.\\n', 'Identify that the sum of the digits is divisible by 3, implying the number itself is divisible by 3.\\n', 'Use the property that if \\\\(a \\\\equiv b \\\\pmod{m}\\\\), then \\\\(a^k \\\\equiv b^k \\\\pmod{m}\\\\).\\n', 'Recognize that the expression represents a Diophantine equation requiring integer solutions.\\n', 'Notice that the number is a Mersenne prime of the form \\\\(2^p - 1\\\\).\\n', 'Apply Wilson’s Theorem to determine if a number is prime.\\n', 'Identify that the number of divisors relates to its prime factorization.\\n', 'Use Euler’s Totient Function to find numbers coprime to a given integer.\\n', 'Recognize that the number is a perfect power based on the exponent relationship.\\n', 'Observe that the equation represents a Pythagorean triple.\\n', 'Apply Legendre’s Symbol to determine quadratic residues.\\n', 'Spot that the number is a sum of two squares based on its prime factors.\\n', 'Identify that the number is a triangular number based on the given conditions.\\n', 'Use the concept of coprimality to simplify fractions or ratios.\\n', 'Recognize that the number satisfies a specific modular condition, such as \\\\(n \\\\equiv 1 \\\\pmod{4}\\\\).\\n', 'Notice that the expression represents a factorial, facilitating the use of divisibility properties.\\n', 'Apply the concept of multiplicative inverses in modular equations.\\n', 'Identify that the number is part of an arithmetic progression of primes.\\n', 'Use properties of quadratic residues to solve the equation modulo a prime.\\n', 'Recognize that the number must be a power of 2 based on its properties.\\n', 'Observe that the sum of two consecutive integers is always odd.\\n', 'Apply the concept that the product of two coprime numbers has a GCD of 1.\\n', 'Identify that the number cannot be expressed as a sum of two squares based on its prime factors.\\n', 'Use the property that if a number divides the product, it must divide at least one of the factors.\\n', 'Recognize that the number is a Fibonacci number based on its recursive properties.\\n', 'Notice that the number has a unique prime factorization, aiding in simplification.\\n', 'Apply the property that any integer greater than 1 is either a prime or a product of primes.\\n', 'Use the concept that the Euler’s Totient Function is multiplicative for coprime integers.\\n', 'Recognize that the number must be a square-free integer based on given conditions.\\n', 'Apply the concept that the sum of two primes is even, except for the case involving 2.']\n"
     ]
    }
   ],
   "source": [
    "random.seed(1)\n",
    "\n",
    "# open \"/home/ubuntu/ohm-tree-filesys/plasma-converter/data/prover-llm_v0/comments/comments_v1.txt\", take a random set of 50 lines and save to a new file \"/home/ubuntu/ohm-tree-filesys/plasma-converter/data/prover-llm_v0/comments/comments_v2.txt\"\n",
    "with open(\"/home/ubuntu/ohm-tree-filesys/plasma-converter/data/prover-llm_v0/comments/comments_v1.txt\", \"r\") as f:\n",
    "    lines = f.readlines()\n",
    "    general = lines[:20]\n",
    "    observations = lines[20:]\n",
    "    # get a random subset of 50 lines\n",
    "    print(lines)\n",
    "    random.shuffle(observations)\n",
    "    few_obs = observations[:30]\n",
    "    with open(\"/home/ubuntu/ohm-tree-filesys/plasma-converter/data/prover-llm_v0/comments/comments_v2.txt\", \"w\") as f:\n",
    "        f.writelines(general + few_obs)"
   ]
  }
 ],
 "metadata": {
  "kernelspec": {
   "display_name": "Python 3",
   "language": "python",
   "name": "python3"
  },
  "language_info": {
   "codemirror_mode": {
    "name": "ipython",
    "version": 3
   },
   "file_extension": ".py",
   "mimetype": "text/x-python",
   "name": "python",
   "nbconvert_exporter": "python",
   "pygments_lexer": "ipython3",
   "version": "3.10.12"
  }
 },
 "nbformat": 4,
 "nbformat_minor": 2
}
