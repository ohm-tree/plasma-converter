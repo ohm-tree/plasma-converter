{
 "cells": [
  {
   "cell_type": "code",
   "execution_count": 1,
   "metadata": {},
   "outputs": [],
   "source": [
    "import json\n",
    "import os\n",
    "import subprocess\n",
    "import tempfile\n",
    "import time\n",
    "import traceback\n",
    "from pprint import pprint\n",
    "\n",
    "HOME_DIR = os.path.expanduser('~')\n",
    "DEFAULT_LAKE_PATH = f'{HOME_DIR}/.elan/bin/lake'\n",
    "DEFAULT_LEAN_WORKSPACE = 'mathlib4/'\n",
    "\n",
    "LEAN4_DEFAULT_HEADER = \"import Mathlib\\nimport Aesop\\n\\nset_option maxHeartbeats 0\\n\\nopen BigOperators Real Nat Topology Rat\\n\\n\"\n",
    "\n"
   ]
  },
  {
   "cell_type": "code",
   "execution_count": 2,
   "metadata": {},
   "outputs": [],
   "source": [
    "class AttrDict(dict):\n",
    "    \"\"\"A dictionary that allows attribute-style access.\"\"\"\n",
    "    def __getattr__(self, name):\n",
    "        return self[name]\n",
    "\n",
    "    def __setattr__(self, name, value):\n",
    "        self[name] = value\n",
    "\n",
    "    def __delattr__(self, name):\n",
    "        del self[name]"
   ]
  },
  {
   "cell_type": "code",
   "execution_count": 3,
   "metadata": {},
   "outputs": [],
   "source": [
    "lake_path=DEFAULT_LAKE_PATH\n",
    "lean_workspace=DEFAULT_LEAN_WORKSPACE\n",
    "last_env=None\n",
    "timeout=300\n",
    "allTactics=True\n",
    "ast=True\n",
    "premises=True\n",
    "tactics=True"
   ]
  },
  {
   "cell_type": "code",
   "execution_count": 4,
   "metadata": {},
   "outputs": [],
   "source": [
    "from prover.lean.ast_parser import lean4_parser"
   ]
  },
  {
   "cell_type": "code",
   "execution_count": 5,
   "metadata": {},
   "outputs": [],
   "source": [
    "def line_column_to_index(s: str, line: int, column: int) -> int:\n",
    "    lines = s.split(\"\\n\")\n",
    "    lines = [line + \"\\n\" for line in lines]\n",
    "    if line <= 0 or line > len(lines):\n",
    "        raise ValueError(\"Line number out of range\")\n",
    "    if column < 0 or column >= len(lines[line - 1]):\n",
    "        raise ValueError(\"Column number out of range\")\n",
    "    return sum(len(lines[i]) for i in range(line - 1)) + column"
   ]
  },
  {
   "cell_type": "code",
   "execution_count": 6,
   "metadata": {},
   "outputs": [],
   "source": [
    "def verify_lean4_file(code,\n",
    "    lake_path=DEFAULT_LAKE_PATH,\n",
    "    lean_workspace=DEFAULT_LEAN_WORKSPACE,\n",
    "    last_env=None,\n",
    "    verbose=False,\n",
    "    timeout=300,\n",
    "    allTactics=False,\n",
    "    ast=False,\n",
    "    premises=False,\n",
    "    tactics=False):\n",
    "    command = dict(cmd=code, allTactics=allTactics, ast=ast,\n",
    "                   tactics=tactics, premises=premises)\n",
    "    if last_env is not None:\n",
    "        command.update(env=last_env)\n",
    "    message_str = json.dumps(command, ensure_ascii=False)\n",
    "    if verbose:\n",
    "        print(message_str)\n",
    "    start_time = time.time()\n",
    "    system_messages = ''\n",
    "    try:\n",
    "        with tempfile.TemporaryFile(mode='w+', encoding='utf-8') as temp_file:\n",
    "            temp_file.write(message_str + \"\\r\\n\\r\\n\")\n",
    "            temp_file.seek(0)\n",
    "            outputs = subprocess.run([lake_path, \"exe\", 'repl'], stdin=temp_file,\n",
    "                                     capture_output=True, text=True, cwd=lean_workspace, timeout=timeout)\n",
    "        result = json.loads(outputs.stdout)\n",
    "        ast_results = lean4_parser(\n",
    "            code, result['ast']) if 'ast' in result and result['ast'] else {}\n",
    "        result = {\n",
    "            \"sorries\": result.get('sorries', []),\n",
    "            \"tactics\": result.get('tactics', []),\n",
    "            \"errors\": [m for m in result.get('messages', []) if m['severity'] == 'error'],\n",
    "            \"warnings\": [m for m in result.get('messages', []) if m['severity'] == 'warning'],\n",
    "            \"infos\": [m for m in result.get('messages', []) if m['severity'] == 'info'],\n",
    "            \"system_messages\": system_messages,\n",
    "            \"system_errors\": None,\n",
    "            \"ast\": ast_results,\n",
    "            \"verified_code\": code,\n",
    "            \"env\": result.get('env', None),\n",
    "        }\n",
    "        result['pass'] = not result['errors']\n",
    "        result['complete'] = result['pass'] and not result['sorries'] and not any(\n",
    "            \"declaration uses 'sorry'\" in warning['data'] or 'failed' in warning['data'] for warning in result['warnings'])\n",
    "    except:\n",
    "        result = {\n",
    "            \"pass\": False,\n",
    "            \"complete\": False,\n",
    "            \"system_errors\": traceback.format_exc(),\n",
    "            \"system_messages\": system_messages\n",
    "        }\n",
    "    result['verify_time'] = time.time() - start_time\n",
    "    return result"
   ]
  },
  {
   "cell_type": "code",
   "execution_count": 7,
   "metadata": {},
   "outputs": [],
   "source": [
    "\n",
    "class Proof(object):\n",
    "    def __init__(self,\n",
    "                 code,\n",
    "                 formal_statement,\n",
    "                 header = LEAN4_DEFAULT_HEADER,\n",
    "                 tailer = \"\",\n",
    "                 ):\n",
    "        \n",
    "        self.code = code\n",
    "        self.header = header\n",
    "        self.formal_statement = formal_statement\n",
    "        self.tailer = tailer\n",
    "        self.full_code = ''.join([self.header, self.formal_statement, code.rstrip(' \\n'), self.tailer])\n",
    "\n",
    "        self.result = verify_lean4_file(self.full_code, ast = True, tactics = True)\n",
    "        self._parse_full_code_lines()\n",
    "\n",
    "\n",
    "    def _parse_full_code_lines(self):\n",
    "        \"\"\"\n",
    "        Cache some basic string operations:\n",
    "        the line offset of each line in the full code,\n",
    "        and the full code lines.\n",
    "        \"\"\"\n",
    "        self._full_code_lines = self.full_code.split('\\n')\n",
    "        self._line_offset, _offset = [], -1\n",
    "        for _line in self._full_code_lines:\n",
    "            _offset += 1  # '\\n'\n",
    "            self._line_offset.append(_offset)\n",
    "            _offset += len(_line)\n",
    "\n",
    "    def _get_idx(self, pos_info):\n",
    "        \"\"\"\n",
    "        Convert a (line, column) dict to the index of the character in the full code.\n",
    "        \"\"\"\n",
    "        return self._line_offset[pos_info['line'] - 1] + pos_info['column']\n",
    "\n",
    "    def segmentation(self):\n",
    "        result = self.result\n",
    "        if 'errors' not in self.result:\n",
    "            # compiler timeout\n",
    "            return []\n",
    "        \n",
    "        \"\"\"\n",
    "        First, we need to find the last valid tactic.\n",
    "\n",
    "        Unsolved goals also show up as errors, and we ignore them.\n",
    "        \"\"\"\n",
    "\n",
    "        _prefix_len = len(self.header) + len(self.formal_statement)\n",
    "        truncate_pos = len(self.full_code) - len(self.tailer)\n",
    "        for info in result['sorries'] + result['errors']:\n",
    "            if info.get('data', str()).lstrip().startswith('unsolved goals'):\n",
    "                continue\n",
    "            info_pos = self._get_idx(info['pos'])\n",
    "            # if info_pos >= _prefix_len:\n",
    "            truncate_pos = min(truncate_pos, info_pos)\n",
    "        \n",
    "        if truncate_pos <= _prefix_len:\n",
    "            # all proof lines are invalid\n",
    "            return []\n",
    "        \n",
    "        partial_code = self.full_code[:truncate_pos]\n",
    "\n",
    "        code_lines = partial_code.split('\\n')\n",
    "        pos_last, segments = _prefix_len, []\n",
    "        for line_idx in range(len(code_lines)):\n",
    "            if self._line_offset[line_idx] >= _prefix_len:\n",
    "                \n",
    "                def compute_last_valid_char_pos(line):\n",
    "                    idx, last_non_blank = 0, len(line) + 1\n",
    "                    while idx < len(line):\n",
    "                        if line[idx: idx+2] == '--':\n",
    "                            return last_non_blank\n",
    "                        elif line[idx: idx+2] == '/-':\n",
    "                            if '-/' not in line[idx+2:]:\n",
    "                                # cannot split in this line\n",
    "                                return len(line) + 1\n",
    "                            idx = line.find('-/', idx+2) + 1\n",
    "                        elif line[idx] != ' ':\n",
    "                            last_non_blank = idx\n",
    "                        idx += 1\n",
    "                    return last_non_blank\n",
    "                \n",
    "\n",
    "                line_lastChar = self._line_offset[line_idx] + \\\n",
    "                    compute_last_valid_char_pos(code_lines[line_idx])\n",
    "                line_endPos = self._line_offset[line_idx] + \\\n",
    "                    len(code_lines[line_idx])\n",
    "\n",
    "                pos_min, goal = 1e9, None\n",
    "                for tactic_info in result['ast']['tactics']:\n",
    "                    pos, endPos = tactic_info['pos'], tactic_info['endPos']\n",
    "                    if line_lastChar <= endPos and endPos <= line_endPos and pos < pos_min:\n",
    "                        pos_min = pos\n",
    "                        goal = tactic_info['stateAfter']\n",
    "                if goal is None:\n",
    "                    continue\n",
    "                \n",
    "                for tactic_info in result['ast']['tactics']:\n",
    "                    pos, endPos = tactic_info['pos'], tactic_info['endPos']\n",
    "                    if pos_last < endPos and endPos <= line_endPos and pos < pos_min:\n",
    "                        pos_min = pos\n",
    "\n",
    "                while pos_min > 0 and partial_code[pos_min - 1] != '\\n':\n",
    "                    pos_min -= 1\n",
    "                indent_len = 0\n",
    "                while partial_code[pos_min + indent_len] == ' ':\n",
    "                    indent_len += 1\n",
    "                newline_with_indent = '\\n' + ' ' * indent_len\n",
    "\n",
    "                segments.append(AttrDict(\n",
    "                    tactic_code=partial_code[pos_last: line_endPos] + '\\n',\n",
    "                    state_comment=newline_with_indent.join([\n",
    "                        ' ' * indent_len + '/- tactic state:',\n",
    "                        '  ' + goal.replace('\\n',\n",
    "                                            newline_with_indent + '  '),\n",
    "                        '-/\\n'\n",
    "                    ]),\n",
    "                    goal=goal,\n",
    "                    indent=indent_len,\n",
    "                ))\n",
    "                pos_last = line_endPos + 1\n",
    "        if result['complete'] and (len(segments) == 0 or segments[-1].goal != 'no goals' or segments[-1].indent != segments[0].indent):\n",
    "            indent_len = 2 if len(segments) == 0 else segments[0].indent\n",
    "            newline_with_indent = '\\n' + ' ' * indent_len\n",
    "            segments.append(AttrDict(\n",
    "                tactic_code=partial_code[pos_last:].rstrip(' \\n') + '\\n',\n",
    "                state_comment=newline_with_indent.join([\n",
    "                    ' ' * indent_len + '/- tactic state:',\n",
    "                    '  no goals',\n",
    "                    '-/\\n'\n",
    "                ]),\n",
    "                goal='no goals',\n",
    "                indent=indent_len,\n",
    "            ))\n",
    "        segments = [seg for seg in segments if len(\n",
    "            seg.tactic_code.strip(' \\n')) > 0]\n",
    "        return segments\n",
    "\n"
   ]
  },
  {
   "cell_type": "code",
   "execution_count": 8,
   "metadata": {},
   "outputs": [],
   "source": [
    "problem = r\"\"\"/-- The second and fourth terms of a geometric sequence are $2$ and $6$. Which of the following is a possible first term?\n",
    "Show that it is $\\frac{2\\sqrt{3}}{3}$.-/\n",
    "theorem amc12b_2003_p6 (a r : ℝ) (u : ℕ → ℝ) (h₀ : ∀ k, u k = a * r ^ k) (h₁ : u 1 = 2)\n",
    "  (h₂ : u 3 = 6) : u 0 = 2 / Real.sqrt 3 ∨ u 0 = -(2 / Real.sqrt 3) := by\n",
    "\"\"\"\n",
    "\n",
    "code = r\"\"\"  -- First, we want to re-write the condition about the second\n",
    "  -- and fourth terms of the geometric sequence using the definition of a geometric sequence\n",
    "  simp_all only [Nat.one_eq_succ_zero, Nat.zero_eq, zero_add, Nat.add_succ, Nat.add_zero,\n",
    "    Nat.succ_add]\n",
    "  have h₁' : a * r = 2 := by simpa [h₀] using h₁\n",
    "  have h₂' : a * r ^ 3 = 6 := by simpa [h₀] using h₂\n",
    "  -- Now we can divide the two equations to eliminate $a$ and determine $r$\n",
    "  have h₃ : r ^ 2 = 3 := by\n",
    "    nlinarith\n",
    "  -- Finally, we can substitute back to find $a$\n",
    "  have h₄ : a = 2 / Real.sqrt 3 ∨ a = -(2 / Real.sqrt 3) := by\n",
    "    apply eq_or_eq_neg_of_sq_eq_sq <;>\n",
    "    field_simp <;>\n",
    "    nlinarith\n",
    "  simpa [h₀] using h₄\n",
    "\"\"\""
   ]
  },
  {
   "cell_type": "code",
   "execution_count": 9,
   "metadata": {},
   "outputs": [],
   "source": [
    "p = Proof(\n",
    "    code = code,\n",
    "    formal_statement=problem\n",
    ")"
   ]
  },
  {
   "cell_type": "code",
   "execution_count": 14,
   "metadata": {},
   "outputs": [
    {
     "name": "stdout",
     "output_type": "stream",
     "text": [
      "{'code': \"  -- First, we want to re-write the condition about the second\\n  -- and fourth terms of the geometric sequence using the definition of a geometric sequence\\n  simp_all only [Nat.one_eq_succ_zero, Nat.zero_eq, zero_add, Nat.add_succ, Nat.add_zero,\\n    Nat.succ_add]\\n  have h₁' : a * r = 2 := by simpa [h₀] using h₁\\n  have h₂' : a * r ^ 3 = 6 := by simpa [h₀] using h₂\\n  -- Now we can divide the two equations to eliminate $a$ and determine $r$\\n  have h₃ : r ^ 2 = 3 := by\\n    nlinarith\\n  -- Finally, we can substitute back to find $a$\\n  have h₄ : a = 2 / Real.sqrt 3 ∨ a = -(2 / Real.sqrt 3) := by\\n    apply eq_or_eq_neg_of_sq_eq_sq <;>\\n    field_simp <;>\\n    nlinarith\\n  simpa [h₀] using h₄\\n\", 'header': 'import Mathlib\\nimport Aesop\\n\\nset_option maxHeartbeats 0\\n\\nopen BigOperators Real Nat Topology Rat\\n\\n', 'formal_statement': '/-- The second and fourth terms of a geometric sequence are $2$ and $6$. Which of the following is a possible first term?\\nShow that it is $\\\\frac{2\\\\sqrt{3}}{3}$.-/\\ntheorem amc12b_2003_p6 (a r : ℝ) (u : ℕ → ℝ) (h₀ : ∀ k, u k = a * r ^ k) (h₁ : u 1 = 2)\\n  (h₂ : u 3 = 6) : u 0 = 2 / Real.sqrt 3 ∨ u 0 = -(2 / Real.sqrt 3) := by\\n', 'tailer': '', 'full_code': \"import Mathlib\\nimport Aesop\\n\\nset_option maxHeartbeats 0\\n\\nopen BigOperators Real Nat Topology Rat\\n\\n/-- The second and fourth terms of a geometric sequence are $2$ and $6$. Which of the following is a possible first term?\\nShow that it is $\\\\frac{2\\\\sqrt{3}}{3}$.-/\\ntheorem amc12b_2003_p6 (a r : ℝ) (u : ℕ → ℝ) (h₀ : ∀ k, u k = a * r ^ k) (h₁ : u 1 = 2)\\n  (h₂ : u 3 = 6) : u 0 = 2 / Real.sqrt 3 ∨ u 0 = -(2 / Real.sqrt 3) := by\\n  -- First, we want to re-write the condition about the second\\n  -- and fourth terms of the geometric sequence using the definition of a geometric sequence\\n  simp_all only [Nat.one_eq_succ_zero, Nat.zero_eq, zero_add, Nat.add_succ, Nat.add_zero,\\n    Nat.succ_add]\\n  have h₁' : a * r = 2 := by simpa [h₀] using h₁\\n  have h₂' : a * r ^ 3 = 6 := by simpa [h₀] using h₂\\n  -- Now we can divide the two equations to eliminate $a$ and determine $r$\\n  have h₃ : r ^ 2 = 3 := by\\n    nlinarith\\n  -- Finally, we can substitute back to find $a$\\n  have h₄ : a = 2 / Real.sqrt 3 ∨ a = -(2 / Real.sqrt 3) := by\\n    apply eq_or_eq_neg_of_sq_eq_sq <;>\\n    field_simp <;>\\n    nlinarith\\n  simpa [h₀] using h₄\", 'result': {'pass': False, 'complete': False, 'system_errors': 'Traceback (most recent call last):\\n  File \"C:\\\\Users\\\\czhan\\\\AppData\\\\Local\\\\Temp\\\\ipykernel_31684\\\\2598010373.py\", line 26, in verify_lean4_file\\n    result = json.loads(outputs.stdout)\\n             ^^^^^^^^^^^^^^^^^^^^^^^^^^\\n  File \"c:\\\\Users\\\\czhan\\\\AppData\\\\Local\\\\Programs\\\\Python\\\\Python311\\\\Lib\\\\json\\\\__init__.py\", line 346, in loads\\n    return _default_decoder.decode(s)\\n           ^^^^^^^^^^^^^^^^^^^^^^^^^^\\n  File \"c:\\\\Users\\\\czhan\\\\AppData\\\\Local\\\\Programs\\\\Python\\\\Python311\\\\Lib\\\\json\\\\decoder.py\", line 337, in decode\\n    obj, end = self.raw_decode(s, idx=_w(s, 0).end())\\n               ^^^^^^^^^^^^^^^^^^^^^^^^^^^^^^^^^^^^^^\\n  File \"c:\\\\Users\\\\czhan\\\\AppData\\\\Local\\\\Programs\\\\Python\\\\Python311\\\\Lib\\\\json\\\\decoder.py\", line 355, in raw_decode\\n    raise JSONDecodeError(\"Expecting value\", s, err.value) from None\\njson.decoder.JSONDecodeError: Expecting value: line 1 column 1 (char 0)\\n', 'system_messages': '', 'verify_time': 48.80610203742981}, '_full_code_lines': ['import Mathlib', 'import Aesop', '', 'set_option maxHeartbeats 0', '', 'open BigOperators Real Nat Topology Rat', '', '/-- The second and fourth terms of a geometric sequence are $2$ and $6$. Which of the following is a possible first term?', 'Show that it is $\\\\frac{2\\\\sqrt{3}}{3}$.-/', 'theorem amc12b_2003_p6 (a r : ℝ) (u : ℕ → ℝ) (h₀ : ∀ k, u k = a * r ^ k) (h₁ : u 1 = 2)', '  (h₂ : u 3 = 6) : u 0 = 2 / Real.sqrt 3 ∨ u 0 = -(2 / Real.sqrt 3) := by', '  -- First, we want to re-write the condition about the second', '  -- and fourth terms of the geometric sequence using the definition of a geometric sequence', '  simp_all only [Nat.one_eq_succ_zero, Nat.zero_eq, zero_add, Nat.add_succ, Nat.add_zero,', '    Nat.succ_add]', \"  have h₁' : a * r = 2 := by simpa [h₀] using h₁\", \"  have h₂' : a * r ^ 3 = 6 := by simpa [h₀] using h₂\", '  -- Now we can divide the two equations to eliminate $a$ and determine $r$', '  have h₃ : r ^ 2 = 3 := by', '    nlinarith', '  -- Finally, we can substitute back to find $a$', '  have h₄ : a = 2 / Real.sqrt 3 ∨ a = -(2 / Real.sqrt 3) := by', '    apply eq_or_eq_neg_of_sq_eq_sq <;>', '    field_simp <;>', '    nlinarith', '  simpa [h₀] using h₄'], '_line_offset': [0, 15, 28, 29, 56, 57, 97, 98, 220, 261, 349, 423, 486, 579, 669, 687, 736, 789, 865, 893, 907, 956, 1019, 1058, 1077, 1091]}\n"
     ]
    }
   ],
   "source": [
    "print(p.__dict__)"
   ]
  },
  {
   "cell_type": "code",
   "execution_count": 12,
   "metadata": {},
   "outputs": [],
   "source": [
    "segments = p.segmentation()\n",
    "for i in segments:\n",
    "    print(\"Tactic Code\".center(80, '-'))\n",
    "    print(i.tactic_code)\n",
    "    print(\"State Comment\".center(80, '-'))\n",
    "    print(i.state_comment)"
   ]
  },
  {
   "cell_type": "code",
   "execution_count": 13,
   "metadata": {},
   "outputs": [],
   "source": [
    "segments = p.segmentation()"
   ]
  },
  {
   "cell_type": "code",
   "execution_count": 18,
   "metadata": {},
   "outputs": [],
   "source": [
    "old_code = r\"\"\"  -- First, we want to re-write the condition about the second\n",
    "  -- and fourth terms of the geometric sequence using the definition of a geometric sequence\n",
    "  simp_all only [Nat.one_eq_succ_zero, Nat.zero_eq, zero_add, Nat.add_succ, Nat.add_zero,\n",
    "    Nat.succ_add]\n",
    "  have h₁' : a * r = 2 := by simpa [h₀] using h₁\n",
    "  have h₂' : a * r ^ 3 = 6 := by simpa [h₀] using h₂\n",
    "  -- Now we can divide the two equations to eliminate $a$ and determine $r$\n",
    "  have h₃ : r ^ 2 = 3 := by\n",
    "\"\"\""
   ]
  },
  {
   "cell_type": "code",
   "execution_count": 21,
   "metadata": {},
   "outputs": [
    {
     "name": "stdout",
     "output_type": "stream",
     "text": [
      "  -- First, we want to re-write the condition about the second\n",
      "  -- and fourth terms of the geometric sequence using the definition of a geometric sequence\n",
      "  simp_all only [Nat.one_eq_succ_zero, Nat.zero_eq, zero_add, Nat.add_succ, Nat.add_zero,\n",
      "    Nat.succ_add]\n",
      "  have h₁' : a * r = 2 := by simpa [h₀] using h₁\n",
      "  have h₂' : a * r ^ 3 = 6 := by simpa [h₀] using h₂\n",
      "  -- Now we can divide the two equations to eliminate $a$ and determine $r$\n",
      "  have h₃ : r ^ 2 = 3 := by\n",
      "    nlinarith\n",
      "\n"
     ]
    }
   ],
   "source": [
    "p.segmentation()\n",
    "new_code = \"\"\n",
    "i = 0\n",
    "while len(new_code) <= len(old_code) and i < len(segments):\n",
    "    new_code += segments[i].tactic_code\n",
    "    i += 1\n",
    "\n",
    "print(new_code)\n",
    "assert new_code.startswith(old_code)"
   ]
  },
  {
   "cell_type": "code",
   "execution_count": 29,
   "metadata": {},
   "outputs": [],
   "source": [
    "full_code = [\n",
    "    r'''import Mathlib\n",
    "import Aesop\n",
    "\n",
    "set_option maxHeartbeats 0\n",
    "set_option linter.unusedVariables false\n",
    "set_option linter.unnecessarySeqFocus false\n",
    "\n",
    "open BigOperators Real Nat Topology Rat\n",
    "\n",
    "/-- The second and fourth terms of a geometric sequence are $2$ and $6$. Which of the following is a possible first term?\n",
    "Show that it is $\\frac{2\\sqrt{3}}{3}$.-/\n",
    "theorem amc12b_2003_p6 (a r : ℝ) (u : ℕ → ℝ) (h₀ : ∀ k, u k = a * r ^ k) (h₁ : u 1 = 2)\n",
    "  (h₂ : u 3 = 6) : u 0 = 2 / Real.sqrt 3 ∨ u 0 = -(2 / Real.sqrt 3) := by\n",
    "''',\n",
    "    r'''  simp_all only [Nat.one_eq_succ_zero, Nat.zero_eq, zero_add, Nat.add_succ, Nat.add_zero,\n",
    "    Nat.succ_add]\n",
    "''',\n",
    "  r'''  have h₁' : a * r = 2 := by simpa [h₀] using h₁\n",
    "  have h₂' : a * r ^ 3 = 6 := by simpa [h₀] using h₂\n",
    "  have h₃ : r ^ 2 = 3 := by\n",
    "    nlinarith\n",
    "''',\n",
    "    r'''  have h₄ : a = 2 / Real.sqrt 3 ∨ a = -(2 / Real.sqrt 3) := by\n",
    "    apply eq_or_eq_neg_of_sq_eq_sq <;>\n",
    "    field_simp <;>\n",
    "    nlinarith\n",
    "''',\n",
    "    r'''  simpa [h₀] using h₄\n",
    "'''\n",
    "]"
   ]
  },
  {
   "cell_type": "code",
   "execution_count": 30,
   "metadata": {},
   "outputs": [
    {
     "name": "stdout",
     "output_type": "stream",
     "text": [
      "import Mathlib\n",
      "import Aesop\n",
      "\n",
      "set_option maxHeartbeats 0\n",
      "set_option linter.unusedVariables false\n",
      "set_option linter.unnecessarySeqFocus false\n",
      "\n",
      "open BigOperators Real Nat Topology Rat\n",
      "\n",
      "/-- The second and fourth terms of a geometric sequence are $2$ and $6$. Which of the following is a possible first term?\n",
      "Show that it is $\\frac{2\\sqrt{3}}{3}$.-/\n",
      "theorem amc12b_2003_p6 (a r : ℝ) (u : ℕ → ℝ) (h₀ : ∀ k, u k = a * r ^ k) (h₁ : u 1 = 2)\n",
      "  (h₂ : u 3 = 6) : u 0 = 2 / Real.sqrt 3 ∨ u 0 = -(2 / Real.sqrt 3) := by\n",
      "  simp_all only [Nat.one_eq_succ_zero, Nat.zero_eq, zero_add, Nat.add_succ, Nat.add_zero,\n",
      "    Nat.succ_add]\n",
      "  have h₁' : a * r = 2 := by simpa [h₀] using h₁\n",
      "  have h₂' : a * r ^ 3 = 6 := by simpa [h₀] using h₂\n",
      "  have h₃ : r ^ 2 = 3 := by\n",
      "    nlinarith\n",
      "  have h₄ : a = 2 / Real.sqrt 3 ∨ a = -(2 / Real.sqrt 3) := by\n",
      "    apply eq_or_eq_neg_of_sq_eq_sq <;>\n",
      "    field_simp <;>\n",
      "    nlinarith\n",
      "  simpa [h₀] using h₄\n",
      "\n"
     ]
    }
   ],
   "source": [
    "print(\"\".join(full_code))"
   ]
  },
  {
   "cell_type": "code",
   "execution_count": 18,
   "metadata": {},
   "outputs": [],
   "source": [
    "# code = r\"\"\"\n",
    "# import Mathlib\n",
    "# import Aesop\n",
    "\n",
    "# set_option maxHeartbeats 0\n",
    "# set_option linter.unusedVariables false\n",
    "# set_option linter.unnecessarySeqFocus false\n",
    "\n",
    "# open BigOperators Real Nat Topology Rat\n",
    "\n",
    "# /-- The second and fourth terms of a geometric sequence are $2$ and $6$. Which of the following is a possible first term?\n",
    "# Show that it is $\\frac{2\\sqrt{3}}{3}$.-/\n",
    "# theorem amc12b_2003_p6 (a r : ℝ) (u : ℕ → ℝ) (h₀ : ∀ k, u k = a * r ^ k) (h₁ : u 1 = 2)\n",
    "#   (h₂ : u 3 = 6) : u 0 = 2 / Real.sqrt 3 ∨ u 0 = -(2 / Real.sqrt 3) := by\n",
    "#   simp_all only [Nat.one_eq_succ_zero, Nat.zero_eq, zero_add, Nat.add_succ, Nat.add_zero,\n",
    "#     Nat.succ_add]\n",
    "#   have h₁' : a * r = 2 := by simpa [h₀] using h₁\n",
    "#   have h₂' : a * r ^ 3 = 6 := by simpa [h₀] using h₂\n",
    "#   have h₃ : r ^ 2 = 3 := by\n",
    "#     nlinarith\n",
    "# ><@>!@1248213\n",
    "# sdbJKdsbkfj\n",
    "#     apply eq_or_eq_neg_of_sq_eq_sq <;>\n",
    "# \"\"\""
   ]
  },
  {
   "cell_type": "code",
   "execution_count": 19,
   "metadata": {},
   "outputs": [],
   "source": [
    "code = r\"\"\"\n",
    "import Mathlib\n",
    "import Aesop\n",
    "\n",
    "set_option maxHeartbeats 0\n",
    "set_option linter.unusedVariables false\n",
    "set_option linter.unnecessarySeqFocus false\n",
    "\n",
    "open BigOperators Real Nat Topology Rat\n",
    "\n",
    "/-- The second and fourth terms of a geometric sequence are $2$ and $6$. Which of the following is a possible first term?\n",
    "Show that it is $\\frac{2\\sqrt{3}}{3}$.-/\n",
    "theorem amc12b_2003_p6 (a r : ℝ) (u : ℕ → ℝ) (h₀ : ∀ k, u k = a * r ^ k) (h₁ : u 1 = 2)\n",
    "  (h₂ : u 3 = 6) : u 0 = 2 / Real.sqrt 3 ∨ u 0 = -(2 / Real.sqrt 3) := by\n",
    "  simp_all only [Nat.one_eq_succ_zero, Nat.zero_eq, zero_add, Nat.add_succ, Nat.add_zero,\n",
    "    Nat.succ_add]\n",
    "  have h₁' : a * r = 2 := by simpa [h₀] using h₁\n",
    "  have h₂' : a * r ^ 3 = 6 := by simpa [h₀] using h₂\n",
    "  have h₃ : r ^ 2 = 3 := by\n",
    "\"\"\""
   ]
  },
  {
   "cell_type": "code",
   "execution_count": 20,
   "metadata": {},
   "outputs": [
    {
     "name": "stdout",
     "output_type": "stream",
     "text": [
      "----------------------------------------------sorries-----------------------------------------------\n",
      "[]\n",
      "----------------------------------------------tactics-----------------------------------------------\n",
      "[{'endPos': {'column': 17, 'line': 16},\n",
      "  'goals': 'a r : ℝ u : ℕ → ℝ h₀ : ∀ (k : ℕ), u k = a * r ^ k h₁ : u 1 = 2 h₂ '\n",
      "           ': u 3 = 6 ⊢ u 0 = 2 / √3 ∨ u 0 = -(2 / √3)',\n",
      "  'pos': {'column': 2, 'line': 15},\n",
      "  'proofState': 0,\n",
      "  'tactic': 'simp_all only [Nat.one_eq_succ_zero, Nat.zero_eq, zero_add, '\n",
      "            'Nat.add_succ, Nat.add_zero, Nat.succ_add]'},\n",
      " {'endPos': {'column': 48, 'line': 17},\n",
      "  'goals': 'a r : ℝ\\n'\n",
      "           'u : ℕ → ℝ\\n'\n",
      "           'h₀ : ∀ (k : ℕ), u k = a * r ^ k\\n'\n",
      "           'h₁ : a * r ^ succ 0 = 2\\n'\n",
      "           'h₂ : a * r ^ 3 = 6\\n'\n",
      "           '⊢ a * r ^ 0 = 2 / √3 ∨ a * r ^ 0 = -(2 / √3)',\n",
      "  'pos': {'column': 2, 'line': 17},\n",
      "  'proofState': 1,\n",
      "  'tactic': \"have h₁' : a * r = 2 := by simpa [h₀] using h₁\"},\n",
      " {'endPos': {'column': 48, 'line': 17},\n",
      "  'goals': 'a r : ℝ u : ℕ → ℝ h₀ : ∀ (k : ℕ), u k = a * r ^ k h₁ : a * r ^ '\n",
      "           'succ 0 = 2 h₂ : a * r ^ 3 = 6 ⊢ a * r = 2',\n",
      "  'pos': {'column': 29, 'line': 17},\n",
      "  'proofState': 2,\n",
      "  'tactic': 'simpa [h₀] using h₁'},\n",
      " {'endPos': {'column': 52, 'line': 18},\n",
      "  'goals': 'a r : ℝ\\n'\n",
      "           'u : ℕ → ℝ\\n'\n",
      "           'h₀ : ∀ (k : ℕ), u k = a * r ^ k\\n'\n",
      "           'h₁ : a * r ^ succ 0 = 2\\n'\n",
      "           'h₂ : a * r ^ 3 = 6\\n'\n",
      "           \"h₁' : a * r = 2\\n\"\n",
      "           '⊢ a * r ^ 0 = 2 / √3 ∨ a * r ^ 0 = -(2 / √3)',\n",
      "  'pos': {'column': 2, 'line': 18},\n",
      "  'proofState': 3,\n",
      "  'tactic': \"have h₂' : a * r ^ 3 = 6 := by simpa [h₀] using h₂\"},\n",
      " {'endPos': {'column': 52, 'line': 18},\n",
      "  'goals': 'a r : ℝ\\n'\n",
      "           'u : ℕ → ℝ\\n'\n",
      "           'h₀ : ∀ (k : ℕ), u k = a * r ^ k\\n'\n",
      "           'h₁ : a * r ^ succ 0 = 2\\n'\n",
      "           'h₂ : a * r ^ 3 = 6\\n'\n",
      "           \"h₁' : a * r = 2\\n\"\n",
      "           '⊢ a * r ^ 3 = 6',\n",
      "  'pos': {'column': 33, 'line': 18},\n",
      "  'proofState': 4,\n",
      "  'tactic': 'simpa [h₀] using h₂'},\n",
      " {'endPos': {'column': 27, 'line': 19},\n",
      "  'goals': 'a r : ℝ\\n'\n",
      "           'u : ℕ → ℝ\\n'\n",
      "           'h₀ : ∀ (k : ℕ), u k = a * r ^ k\\n'\n",
      "           'h₁ : a * r ^ succ 0 = 2\\n'\n",
      "           'h₂ : a * r ^ 3 = 6\\n'\n",
      "           \"h₁' : a * r = 2\\n\"\n",
      "           \"h₂' : a * r ^ 3 = 6\\n\"\n",
      "           '⊢ a * r ^ 0 = 2 / √3 ∨ a * r ^ 0 = -(2 / √3)',\n",
      "  'pos': {'column': 2, 'line': 19},\n",
      "  'proofState': 5,\n",
      "  'tactic': '<failed to pretty print>'}]\n",
      "-----------------------------------------------errors-----------------------------------------------\n",
      "[{'data': \"unexpected end of input; expected '{' or indented tactic sequence\",\n",
      "  'endPos': None,\n",
      "  'pos': {'column': 0, 'line': 20},\n",
      "  'severity': 'error'},\n",
      " {'data': 'unsolved goals\\n'\n",
      "          'a r : ℝ\\n'\n",
      "          'u : ℕ → ℝ\\n'\n",
      "          'h₀ : ∀ (k : ℕ), u k = a * r ^ k\\n'\n",
      "          'h₁ : a * r ^ succ 0 = 2\\n'\n",
      "          'h₂ : a * r ^ 3 = 6\\n'\n",
      "          \"h₁' : a * r = 2\\n\"\n",
      "          \"h₂' : a * r ^ 3 = 6\\n\"\n",
      "          '⊢ r ^ 2 = 3',\n",
      "  'endPos': {'column': 27, 'line': 19},\n",
      "  'pos': {'column': 25, 'line': 19},\n",
      "  'severity': 'error'},\n",
      " {'data': 'unsolved goals\\n'\n",
      "          'a r : ℝ\\n'\n",
      "          'u : ℕ → ℝ\\n'\n",
      "          'h₀ : ∀ (k : ℕ), u k = a * r ^ k\\n'\n",
      "          'h₁ : a * r ^ succ 0 = 2\\n'\n",
      "          'h₂ : a * r ^ 3 = 6\\n'\n",
      "          \"h₁' : a * r = 2\\n\"\n",
      "          \"h₂' : a * r ^ 3 = 6\\n\"\n",
      "          'h₃ : r ^ 2 = 3\\n'\n",
      "          '⊢ a * r ^ 0 = 2 / √3 ∨ a * r ^ 0 = -(2 / √3)',\n",
      "  'endPos': {'column': 27, 'line': 19},\n",
      "  'pos': {'column': 71, 'line': 14},\n",
      "  'severity': 'error'}]\n",
      "----------------------------------------------warnings----------------------------------------------\n",
      "[]\n",
      "-----------------------------------------------infos------------------------------------------------\n",
      "[]\n",
      "------------------------------------------system_messages-------------------------------------------\n",
      "''\n",
      "-------------------------------------------system_errors--------------------------------------------\n",
      "None\n",
      "------------------------------------------------ast-------------------------------------------------\n",
      "{}\n",
      "-------------------------------------------verified_code--------------------------------------------\n",
      "('\\n'\n",
      " 'import Mathlib\\n'\n",
      " 'import Aesop\\n'\n",
      " '\\n'\n",
      " 'set_option maxHeartbeats 0\\n'\n",
      " 'set_option linter.unusedVariables false\\n'\n",
      " 'set_option linter.unnecessarySeqFocus false\\n'\n",
      " '\\n'\n",
      " 'open BigOperators Real Nat Topology Rat\\n'\n",
      " '\\n'\n",
      " '/-- The second and fourth terms of a geometric sequence are $2$ and $6$. '\n",
      " 'Which of the following is a possible first term?\\n'\n",
      " 'Show that it is $\\\\frac{2\\\\sqrt{3}}{3}$.-/\\n'\n",
      " 'theorem amc12b_2003_p6 (a r : ℝ) (u : ℕ → ℝ) (h₀ : ∀ k, u k = a * r ^ k) (h₁ '\n",
      " ': u 1 = 2)\\n'\n",
      " '  (h₂ : u 3 = 6) : u 0 = 2 / Real.sqrt 3 ∨ u 0 = -(2 / Real.sqrt 3) := by\\n'\n",
      " '  simp_all only [Nat.one_eq_succ_zero, Nat.zero_eq, zero_add, Nat.add_succ, '\n",
      " 'Nat.add_zero,\\n'\n",
      " '    Nat.succ_add]\\n'\n",
      " \"  have h₁' : a * r = 2 := by simpa [h₀] using h₁\\n\"\n",
      " \"  have h₂' : a * r ^ 3 = 6 := by simpa [h₀] using h₂\\n\"\n",
      " '  have h₃ : r ^ 2 = 3 := by\\n')\n",
      "------------------------------------------------env-------------------------------------------------\n",
      "0\n",
      "------------------------------------------------pass------------------------------------------------\n",
      "False\n",
      "----------------------------------------------complete----------------------------------------------\n",
      "False\n",
      "--------------------------------------------verify_time---------------------------------------------\n",
      "3.953263759613037\n"
     ]
    }
   ],
   "source": [
    "results = verify_lean4_file(code, tactics=True, allTactics=True, premises = True)\n",
    "for k, v in results.items():\n",
    "    print(k.center(100, '-'))\n",
    "    pprint(v)"
   ]
  },
  {
   "cell_type": "code",
   "execution_count": 196,
   "metadata": {},
   "outputs": [
    {
     "name": "stdout",
     "output_type": "stream",
     "text": [
      "{'line': 14, 'column': 2} {'line': 15, 'column': 17}\n",
      "simp_all only [Nat.one_eq_succ_zero, Nat.zero_eq, zero_add, Nat.add_succ, Nat.add_zero,\n",
      "    Nat.succ_add]\n",
      "{'line': 16, 'column': 2} {'line': 16, 'column': 48}\n",
      "have h₁' : a * r = 2 := by simpa [h₀] using h₁\n",
      "{'line': 16, 'column': 29} {'line': 16, 'column': 48}\n",
      "simpa [h₀] using h₁\n",
      "{'line': 17, 'column': 2} {'line': 17, 'column': 52}\n",
      "have h₂' : a * r ^ 3 = 6 := by simpa [h₀] using h₂\n",
      "{'line': 17, 'column': 33} {'line': 17, 'column': 52}\n",
      "simpa [h₀] using h₂\n",
      "{'line': 18, 'column': 2} {'line': 19, 'column': 13}\n",
      "have h₃ : r ^ 2 = 3 := by\n",
      "    nlinarith\n",
      "{'line': 19, 'column': 4} {'line': 19, 'column': 13}\n",
      "nlinarith\n"
     ]
    }
   ],
   "source": [
    "for tactic in results['tactics']:\n",
    "    print(tactic['pos'], tactic['endPos'])\n",
    "    start = line_column_to_index(code, tactic['pos']['line'], tactic['pos']['column'])\n",
    "    end = line_column_to_index(code, tactic['endPos']['line'], tactic['endPos']['column'])\n",
    "    print(code[start:end])"
   ]
  },
  {
   "cell_type": "code",
   "execution_count": 202,
   "metadata": {},
   "outputs": [],
   "source": [
    "def get_location_of_first_error(results):\n",
    "    \"\"\"\n",
    "    Get the location of the first error in the results.\n",
    "    \"\"\"\n",
    "    min_index = float('inf')\n",
    "    first_error = None\n",
    "    for error in results['errors']:\n",
    "        start = line_column_to_index(code, error['pos']['line'], error['pos']['column'])\n",
    "        if start < min_index:\n",
    "            min_index = start\n",
    "            first_error = error\n",
    "    return min_index, first_error"
   ]
  },
  {
   "cell_type": "code",
   "execution_count": 204,
   "metadata": {},
   "outputs": [
    {
     "name": "stdout",
     "output_type": "stream",
     "text": [
      "\n",
      "import Mathlib\n",
      "import Aesop\n",
      "\n",
      "set_option maxHeartbeats 0\n",
      "set_option linter.unusedVariables false\n",
      "set_option linter.unnecessarySeqFocus false\n",
      "\n",
      "open BigOperators Real Nat Topology Rat\n",
      "\n",
      "/-- The second and fourth terms of a geometric sequence are $2$ and $6$. Which of the following is a possible first term?\n",
      "Show that it is $\\frac{2\\sqrt{3}}{3}$.-/\n",
      "theorem amc12b_2003_p6 (a r : ℝ) (u : ℕ → ℝ) (h₀ : ∀ k, u k = a * r ^ k) (h₁ : u 1 = 2)\n",
      "  (h₂ : u 3 = 6) : u 0 = 2 / Real.sqrt 3 ∨ u 0 = -(2 / Real.sqrt 3) := by\n",
      "  simp_all only [Nat.one_eq_succ_zero, Nat.zero_eq, zero_add, Nat.add_succ, Nat.add_zero,\n",
      "    Nat.succ_add]\n",
      "  have h₁' : a * r = 2 := by simpa [h₀] using h₁\n",
      "  have h₂' : a * r ^ 3 = 6 := by simpa [h₀] using h₂\n",
      "  have h₃ : r ^ 2 = 3 := by\n",
      "    nlinarith\n",
      ">\n",
      "---------ERROR BELOW---------\n",
      "{'severity': 'error', 'pos': {'line': 21, 'column': 1}, 'endPos': {'line': 21, 'column': 2}, 'data': \"unexpected token '<'; expected term\"}\n",
      "---------ERROR ABOVE---------\n",
      "<@>!@1248213\n",
      "sdbJKdsbkfj\n",
      "    apply eq_or_eq_neg_of_sq_eq_sq <;>\n",
      "\n"
     ]
    }
   ],
   "source": [
    "print(code[:get_location_of_first_error(results)[0]])\n",
    "print(\"---------ERROR BELOW---------\")\n",
    "print(get_location_of_first_error(results)[1])\n",
    "print(\"---------ERROR ABOVE---------\")\n",
    "print(code[get_location_of_first_error(results)[0]:])"
   ]
  },
  {
   "cell_type": "code",
   "execution_count": null,
   "metadata": {},
   "outputs": [],
   "source": [
    "def get_all_end_positions_from_tactics(results):\n",
    "    \"\"\"\n",
    "    Get all end positions from tactics in the results.\n",
    "    \"\"\"\n",
    "    return sorted(list(\n",
    "        set(\n",
    "            line_column_to_index(code, tactic['endPos']['line'], tactic['endPos']['column'])\n",
    "        )\n",
    "    ))"
   ]
  },
  {
   "cell_type": "code",
   "execution_count": 147,
   "metadata": {},
   "outputs": [],
   "source": []
  },
  {
   "cell_type": "code",
   "execution_count": 148,
   "metadata": {},
   "outputs": [
    {
     "name": "stdout",
     "output_type": "stream",
     "text": [
      "import Mathlib\n",
      "import Aesop\n",
      "\n",
      "set_option maxHeartbeats 0\n",
      "set_option linter.unusedVariables false\n",
      "set_option linter.unnecessarySeqFocus false\n",
      "\n",
      "open BigOperators Real Nat Topology Rat\n",
      "\n",
      "/-- The second and fourth terms of a geometric sequence are $2$ and $6$. Which of the following is a possible first term?\n",
      "Show that it is $\\frac{2\\sqrt{3}}{3}$.-/\n",
      "theorem amc12b_2003_p6 (a r : ℝ) (u : ℕ → ℝ) (h₀ : ∀ k, u k = a * r ^ k) (h₁ : u 1 = 2)\n",
      "  (h₂ : u 3 = 6) : u 0 = 2 / Real.sqrt 3 ∨ u 0 = -(2 / Real.sqrt 3) := by\n",
      "  simp_all only [Nat.one_eq_succ_zero, Nat.zero_eq, zero_add, Nat.add_succ, Nat.add_zero,\n",
      "    Nat.succ_add]\n",
      "  have h₁' : a * r = 2 := by simpa [h₀] using h₁\n",
      "  have h₂' : a * r ^ 3 = 6 := by simpa [h₀] using h₂\n",
      "  have h₃ : r ^ 2 = 3 := by\n",
      "    nlinarith\n",
      "  have h₄ : a = 2 / Real.sqrt 3 ∨ a = -(2 / Real.sqrt 3) := by\n",
      "    apply eq_or_eq_neg_of_sq_eq_sq <;>\n",
      "    field_simp <;>\n",
      "    nlinarith\n",
      "  simpa [h₀] using h₄\n",
      "\n"
     ]
    }
   ],
   "source": [
    "print(\"\".join(code))"
   ]
  },
  {
   "cell_type": "code",
   "execution_count": 149,
   "metadata": {},
   "outputs": [],
   "source": [
    "# pprint\n",
    "from pprint import pprint"
   ]
  },
  {
   "cell_type": "code",
   "execution_count": 150,
   "metadata": {},
   "outputs": [
    {
     "name": "stdout",
     "output_type": "stream",
     "text": [
      "----------------------------------------------sorries-----------------------------------------------\n",
      "[]\n",
      "----------------------------------------------tactics-----------------------------------------------\n",
      "[]\n",
      "-----------------------------------------------errors-----------------------------------------------\n",
      "[{'data': \"unexpected end of input; expected '{'\",\n",
      "  'endPos': None,\n",
      "  'pos': {'column': 0, 'line': 14},\n",
      "  'severity': 'error'},\n",
      " {'data': 'unsolved goals\\n'\n",
      "          'a r : ℝ\\n'\n",
      "          'u : ℕ → ℝ\\n'\n",
      "          'h₀ : ∀ (k : ℕ), u k = a * r ^ k\\n'\n",
      "          'h₁ : u 1 = 2\\n'\n",
      "          'h₂ : u 3 = 6\\n'\n",
      "          '⊢ u 0 = 2 / √3 ∨ u 0 = -(2 / √3)',\n",
      "  'endPos': {'column': 73, 'line': 13},\n",
      "  'pos': {'column': 71, 'line': 13},\n",
      "  'severity': 'error'}]\n",
      "----------------------------------------------warnings----------------------------------------------\n",
      "[]\n",
      "-----------------------------------------------infos------------------------------------------------\n",
      "[]\n",
      "------------------------------------------system_messages-------------------------------------------\n",
      "''\n",
      "-------------------------------------------system_errors--------------------------------------------\n",
      "None\n",
      "------------------------------------------------ast-------------------------------------------------\n",
      "{}\n",
      "-------------------------------------------verified_code--------------------------------------------\n",
      "('import Mathlib\\n'\n",
      " 'import Aesop\\n'\n",
      " '\\n'\n",
      " 'set_option maxHeartbeats 0\\n'\n",
      " 'set_option linter.unusedVariables false\\n'\n",
      " 'set_option linter.unnecessarySeqFocus false\\n'\n",
      " '\\n'\n",
      " 'open BigOperators Real Nat Topology Rat\\n'\n",
      " '\\n'\n",
      " '/-- The second and fourth terms of a geometric sequence are $2$ and $6$. '\n",
      " 'Which of the following is a possible first term?\\n'\n",
      " 'Show that it is $\\\\frac{2\\\\sqrt{3}}{3}$.-/\\n'\n",
      " 'theorem amc12b_2003_p6 (a r : ℝ) (u : ℕ → ℝ) (h₀ : ∀ k, u k = a * r ^ k) (h₁ '\n",
      " ': u 1 = 2)\\n'\n",
      " '  (h₂ : u 3 = 6) : u 0 = 2 / Real.sqrt 3 ∨ u 0 = -(2 / Real.sqrt 3) := by\\n')\n",
      "------------------------------------------------env-------------------------------------------------\n",
      "0\n",
      "------------------------------------------------pass------------------------------------------------\n",
      "False\n",
      "----------------------------------------------complete----------------------------------------------\n",
      "False\n",
      "--------------------------------------------verify_time---------------------------------------------\n",
      "3.8744142055511475\n"
     ]
    }
   ],
   "source": [
    "res = verify_lean4_file(\n",
    "    code[0],\n",
    "    # allTactics=True,\n",
    "    tactics=True,\n",
    ")\n",
    "for k, v in res.items():\n",
    "    print(k.center(100, '-'))\n",
    "    pprint(v)"
   ]
  },
  {
   "cell_type": "code",
   "execution_count": 128,
   "metadata": {},
   "outputs": [
    {
     "name": "stdout",
     "output_type": "stream",
     "text": [
      "----------------------------------------------sorries-----------------------------------------------\n",
      "[]\n",
      "----------------------------------------------tactics-----------------------------------------------\n",
      "[]\n",
      "-----------------------------------------------errors-----------------------------------------------\n",
      "[]\n",
      "----------------------------------------------warnings----------------------------------------------\n",
      "[]\n",
      "-----------------------------------------------infos------------------------------------------------\n",
      "[]\n",
      "------------------------------------------system_messages-------------------------------------------\n",
      "''\n",
      "-------------------------------------------system_errors--------------------------------------------\n",
      "None\n",
      "------------------------------------------------ast-------------------------------------------------\n",
      "{}\n",
      "-------------------------------------------verified_code--------------------------------------------\n",
      "('  simp_all only [Nat.one_eq_succ_zero, Nat.zero_eq, zero_add, Nat.add_succ, '\n",
      " 'Nat.add_zero,\\n'\n",
      " '    Nat.succ_add]\\n')\n",
      "------------------------------------------------env-------------------------------------------------\n",
      "None\n",
      "------------------------------------------------pass------------------------------------------------\n",
      "True\n",
      "----------------------------------------------complete----------------------------------------------\n",
      "True\n",
      "--------------------------------------------verify_time---------------------------------------------\n",
      "0.4761967658996582\n"
     ]
    }
   ],
   "source": [
    "res = verify_lean4_file(\n",
    "    code[1],\n",
    "    # allTactics=True,\n",
    "    tactics=True,\n",
    "    last_env = 0\n",
    ")\n",
    "for k, v in res.items():\n",
    "    print(k.center(100, '-'))\n",
    "    pprint(v)"
   ]
  },
  {
   "cell_type": "code",
   "execution_count": 129,
   "metadata": {},
   "outputs": [
    {
     "data": {
      "text/plain": [
       "''"
      ]
     },
     "execution_count": 129,
     "metadata": {},
     "output_type": "execute_result"
    }
   ],
   "source": [
    "code[0].split(\"\\n\")[13]"
   ]
  },
  {
   "cell_type": "code",
   "execution_count": 132,
   "metadata": {},
   "outputs": [],
   "source": [
    "p = subprocess.Popen(\n",
    "    [lake_path, \"exe\", 'repl'],\n",
    "    stdin=subprocess.PIPE,\n",
    "    stdout=subprocess.PIPE,\n",
    "    stderr=subprocess.PIPE,\n",
    "    text=True,\n",
    "    cwd=lean_workspace\n",
    ")"
   ]
  },
  {
   "cell_type": "code",
   "execution_count": 133,
   "metadata": {},
   "outputs": [
    {
     "data": {
      "text/plain": [
       "<_io.TextIOWrapper name=76 encoding='UTF-8'>"
      ]
     },
     "execution_count": 133,
     "metadata": {},
     "output_type": "execute_result"
    }
   ],
   "source": [
    "p.stdin"
   ]
  },
  {
   "cell_type": "code",
   "execution_count": 134,
   "metadata": {},
   "outputs": [
    {
     "data": {
      "text/plain": [
       "607"
      ]
     },
     "execution_count": 134,
     "metadata": {},
     "output_type": "execute_result"
    }
   ],
   "source": [
    "command = dict(cmd=code[0], allTactics=True, ast=False,\n",
    "                tactics=True, premises=False)\n",
    "message_str = json.dumps(command, ensure_ascii=False)  + \"\\r\\n\\r\\n\"\n",
    "p.stdin.write(message_str)\n"
   ]
  },
  {
   "cell_type": "code",
   "execution_count": null,
   "metadata": {},
   "outputs": [],
   "source": []
  },
  {
   "cell_type": "code",
   "execution_count": 135,
   "metadata": {},
   "outputs": [
    {
     "name": "stdout",
     "output_type": "stream",
     "text": [
      "Process is still running\n"
     ]
    }
   ],
   "source": [
    "# check if the process is still running\n",
    "if p.poll() is None:\n",
    "    print(\"Process is still running\")\n",
    "else:\n",
    "    print(\"Process has finished running\")"
   ]
  },
  {
   "cell_type": "code",
   "execution_count": 136,
   "metadata": {},
   "outputs": [
    {
     "data": {
      "text/plain": [
       "('{\"messages\":\\n [{\"severity\": \"error\",\\n   \"pos\": {\"line\": 14, \"column\": 0},\\n   \"endPos\": null,\\n   \"data\": \"unexpected end of input; expected \\'{\\'\"},\\n  {\"severity\": \"error\",\\n   \"pos\": {\"line\": 13, \"column\": 71},\\n   \"endPos\": {\"line\": 13, \"column\": 73},\\n   \"data\":\\n   \"unsolved goals\\\\na r : ℝ\\\\nu : ℕ → ℝ\\\\nh₀ : ∀ (k : ℕ), u k = a * r ^ k\\\\nh₁ : u 1 = 2\\\\nh₂ : u 3 = 6\\\\n⊢ u 0 = 2 / √3 ∨ u 0 = -(2 / √3)\"}],\\n \"env\": 0,\\n \"ast\": []}\\n\\n',\n",
       " '')"
      ]
     },
     "execution_count": 136,
     "metadata": {},
     "output_type": "execute_result"
    }
   ],
   "source": [
    "p.communicate()"
   ]
  },
  {
   "cell_type": "code",
   "execution_count": 137,
   "metadata": {},
   "outputs": [
    {
     "ename": "ValueError",
     "evalue": "I/O operation on closed file.",
     "output_type": "error",
     "traceback": [
      "\u001b[0;31m---------------------------------------------------------------------------\u001b[0m",
      "\u001b[0;31mValueError\u001b[0m                                Traceback (most recent call last)",
      "Cell \u001b[0;32mIn[137], line 2\u001b[0m\n\u001b[1;32m      1\u001b[0m \u001b[38;5;66;03m# read the entire stdout of the process\u001b[39;00m\n\u001b[0;32m----> 2\u001b[0m \u001b[43mp\u001b[49m\u001b[38;5;241;43m.\u001b[39;49m\u001b[43mstdout\u001b[49m\u001b[38;5;241;43m.\u001b[39;49m\u001b[43mreadline\u001b[49m\u001b[43m(\u001b[49m\u001b[43m)\u001b[49m\n",
      "\u001b[0;31mValueError\u001b[0m: I/O operation on closed file."
     ]
    }
   ],
   "source": [
    "# read the entire stdout of the process\n",
    "p.stdout.readline()"
   ]
  },
  {
   "cell_type": "code",
   "execution_count": 88,
   "metadata": {},
   "outputs": [
    {
     "name": "stdout",
     "output_type": "stream",
     "text": [
      "----------------------------------------------messages----------------------------------------------\n",
      "[{'data': \"unexpected end of input; expected '{'\",\n",
      "  'endPos': None,\n",
      "  'pos': {'column': 0, 'line': 14},\n",
      "  'severity': 'error'},\n",
      " {'data': 'unsolved goals\\n'\n",
      "          'a r : ℝ\\n'\n",
      "          'u : ℕ → ℝ\\n'\n",
      "          'h₀ : ∀ (k : ℕ), u k = a * r ^ k\\n'\n",
      "          'h₁ : u 1 = 2\\n'\n",
      "          'h₂ : u 3 = 6\\n'\n",
      "          '⊢ u 0 = 2 / √3 ∨ u 0 = -(2 / √3)',\n",
      "  'endPos': {'column': 73, 'line': 13},\n",
      "  'pos': {'column': 71, 'line': 13},\n",
      "  'severity': 'error'}]\n",
      "------------------------------------------------env-------------------------------------------------\n",
      "0\n",
      "------------------------------------------------ast-------------------------------------------------\n",
      "[]\n"
     ]
    }
   ],
   "source": [
    "for k, v in json.loads(stdout).items():\n",
    "    print(k.center(100, '-'))\n",
    "    pprint(v)"
   ]
  },
  {
   "cell_type": "code",
   "execution_count": 89,
   "metadata": {},
   "outputs": [
    {
     "ename": "ValueError",
     "evalue": "I/O operation on closed file.",
     "output_type": "error",
     "traceback": [
      "\u001b[0;31m---------------------------------------------------------------------------\u001b[0m",
      "\u001b[0;31mValueError\u001b[0m                                Traceback (most recent call last)",
      "Cell \u001b[0;32mIn[89], line 4\u001b[0m\n\u001b[1;32m      1\u001b[0m command \u001b[38;5;241m=\u001b[39m \u001b[38;5;28mdict\u001b[39m(cmd\u001b[38;5;241m=\u001b[39mcode[\u001b[38;5;241m1\u001b[39m], allTactics\u001b[38;5;241m=\u001b[39m\u001b[38;5;28;01mTrue\u001b[39;00m, ast\u001b[38;5;241m=\u001b[39m\u001b[38;5;28;01mFalse\u001b[39;00m,\n\u001b[1;32m      2\u001b[0m                 tactics\u001b[38;5;241m=\u001b[39m\u001b[38;5;28;01mTrue\u001b[39;00m, premises\u001b[38;5;241m=\u001b[39m\u001b[38;5;28;01mFalse\u001b[39;00m, env\u001b[38;5;241m=\u001b[39m\u001b[38;5;241m0\u001b[39m)\n\u001b[1;32m      3\u001b[0m message_str \u001b[38;5;241m=\u001b[39m json\u001b[38;5;241m.\u001b[39mdumps(command, ensure_ascii\u001b[38;5;241m=\u001b[39m\u001b[38;5;28;01mFalse\u001b[39;00m)  \u001b[38;5;241m+\u001b[39m \u001b[38;5;124m\"\u001b[39m\u001b[38;5;130;01m\\r\u001b[39;00m\u001b[38;5;130;01m\\n\u001b[39;00m\u001b[38;5;130;01m\\r\u001b[39;00m\u001b[38;5;130;01m\\n\u001b[39;00m\u001b[38;5;124m\"\u001b[39m\n\u001b[0;32m----> 4\u001b[0m \u001b[43mp\u001b[49m\u001b[38;5;241;43m.\u001b[39;49m\u001b[43mstdin\u001b[49m\u001b[38;5;241;43m.\u001b[39;49m\u001b[43mwrite\u001b[49m\u001b[43m(\u001b[49m\u001b[43mmessage_str\u001b[49m\u001b[43m)\u001b[49m\n",
      "\u001b[0;31mValueError\u001b[0m: I/O operation on closed file."
     ]
    }
   ],
   "source": [
    "command = dict(cmd=code[1], allTactics=True, ast=False,\n",
    "                tactics=True, premises=False, env=0)\n",
    "message_str = json.dumps(command, ensure_ascii=False)  + \"\\r\\n\\r\\n\"\n",
    "p.stdin.write(message_str)\n"
   ]
  },
  {
   "cell_type": "code",
   "execution_count": 76,
   "metadata": {},
   "outputs": [
    {
     "data": {
      "text/plain": [
       "''"
      ]
     },
     "execution_count": 76,
     "metadata": {},
     "output_type": "execute_result"
    }
   ],
   "source": [
    "stderr"
   ]
  },
  {
   "cell_type": "code",
   "execution_count": null,
   "metadata": {},
   "outputs": [],
   "source": []
  },
  {
   "cell_type": "code",
   "execution_count": 107,
   "metadata": {},
   "outputs": [
    {
     "name": "stdout",
     "output_type": "stream",
     "text": [
      "asdfhjasdhfvd\n",
      "dwb\n"
     ]
    }
   ],
   "source": [
    "s = r\"\"\"asdfhjasdhfvd\n",
    "dwbjkfbajskdf\n",
    "vsdajkvjlzxcv\"\"\"\n",
    "get_index(s, 1, 3)\n",
    "\n",
    "print(s[:get_index(s, 1, 3)])  # prints 'asdfhjasdhfvd\\ndwbjkfba'"
   ]
  },
  {
   "cell_type": "code",
   "execution_count": null,
   "metadata": {},
   "outputs": [],
   "source": []
  }
 ],
 "metadata": {
  "kernelspec": {
   "display_name": "pytorch",
   "language": "python",
   "name": "python3"
  },
  "language_info": {
   "codemirror_mode": {
    "name": "ipython",
    "version": 3
   },
   "file_extension": ".py",
   "mimetype": "text/x-python",
   "name": "python",
   "nbconvert_exporter": "python",
   "pygments_lexer": "ipython3",
   "version": "3.8.10"
  }
 },
 "nbformat": 4,
 "nbformat_minor": 2
}
