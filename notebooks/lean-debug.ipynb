{
 "cells": [
  {
   "cell_type": "code",
   "execution_count": 8,
   "metadata": {},
   "outputs": [],
   "source": [
    "import json\n",
    "import os\n",
    "import pexpect\n",
    "import time\n",
    "from typing import Dict, Optional"
   ]
  },
  {
   "cell_type": "code",
   "execution_count": 80,
   "metadata": {},
   "outputs": [],
   "source": [
    "HOME_DIR = os.path.expanduser('~')\n",
    "DEFAULT_LAKE_PATH = f'{HOME_DIR}/.elan/bin/lake'\n",
    "DEFAULT_LEAN_WORKSPACE = 'old-mathlib4/'\n",
    "\n",
    "LEAN4_DEFAULT_HEADER = \"\""
   ]
  },
  {
   "cell_type": "code",
   "execution_count": 61,
   "metadata": {},
   "outputs": [],
   "source": [
    "def send_code_read_json(cmd, timeout_start=600, timeout_cat=600, timeout_finish=600, _child: Optional[pexpect.spawn] = None, kill=False):\n",
    "        print(\"compiling\")\n",
    "        print(cmd[\"cmd\"])\n",
    "        try:\n",
    "            return _send_code_read_json(cmd, timeout_start=timeout_start, timeout_cat=timeout_cat, timeout_finish=timeout_finish, _child=_child, kill=kill)\n",
    "        except Exception as e:\n",
    "            return {'system_error': str(e)}\n",
    "\n",
    "\n",
    "def _send_code_read_json(cmd, timeout_start=600, timeout_cat=600, timeout_finish=600, _child: Optional[pexpect.spawn] = None, kill=False):\n",
    "    \"\"\"\n",
    "    Note that there's actually no reason to make the timeouts super short. Timeouts aren't usually indicative\n",
    "    of buggy code, they're just due to variance in the time it takes to run the code. So, we can just set them\n",
    "    to be very long.\n",
    "    \"\"\"\n",
    "    if _child is None:\n",
    "        child = pexpect.spawn(\n",
    "            f\"{DEFAULT_LAKE_PATH} exe repl\",\n",
    "            cwd=DEFAULT_LEAN_WORKSPACE)\n",
    "    else:\n",
    "        child = _child\n",
    "\n",
    "    cmd_json = json.dumps(cmd)\n",
    "    print(\"cmd_json\", cmd_json)\n",
    "    child.send(cmd_json + \"\\r\\n\")\n",
    "    # Read the input itself.\n",
    "    # This should be printed instantly, so timeout is set to 1 second.\n",
    "    child.expect_exact(cmd_json + \"\\r\\n\", timeout=timeout_cat)\n",
    "    assert child.after.decode('utf-8') == cmd_json + \"\\r\\n\"\n",
    "    # print(\"Sent code to Lean4 REPL.\")\n",
    "\n",
    "    # Read the output.\n",
    "    # This code is critical; the repl seems to print out some\n",
    "    # strange non-json stuff before the actual json output,\n",
    "    # including characters that delete the previous input,\n",
    "    # such that it doesn't show up in debug output.\n",
    "    child.expect_exact(\"{\", timeout=timeout_start)\n",
    "    res = \"{\"\n",
    "    # print(\"Received start of output from Lean4 REPL.\")\n",
    "    # while res is not a valid json string, read lines.\n",
    "    # All of the lines should print essentially instantly,\n",
    "    # so there are no timeouts in this loop.\n",
    "    start_time = time.time()\n",
    "    while True:\n",
    "        res = res + child.readline().decode('utf-8')\n",
    "        try:\n",
    "            # print all chars in res\n",
    "            json.loads(res.strip())\n",
    "            break\n",
    "        except json.JSONDecodeError as e:\n",
    "            # print(e)\n",
    "            pass\n",
    "        if time.time() - start_time > timeout_finish:\n",
    "            raise TimeoutError(\"Lean4 REPL timed out.\")\n",
    "        # time.sleep(0.1)\n",
    "\n",
    "    # kill\n",
    "    if kill:\n",
    "        child.close()\n",
    "    return json.loads(res)\n",
    "\n",
    "\n",
    "def setup_repl():\n",
    "    child = pexpect.spawn(\n",
    "        f\"{DEFAULT_LAKE_PATH} exe repl\",\n",
    "        cwd=DEFAULT_LEAN_WORKSPACE)\n",
    "\n",
    "    # Use the unprotected version to avoid error-loops.\n",
    "    res = _send_code_read_json(\n",
    "        {\n",
    "            \"cmd\": LEAN4_DEFAULT_HEADER,\n",
    "            \"allTactics\": True,\n",
    "            \"tactics\": True,\n",
    "        },\n",
    "        _child=child\n",
    "    )\n",
    "    print(\"setup res\")\n",
    "    print(res)\n",
    "    return child"
   ]
  },
  {
   "cell_type": "code",
   "execution_count": 16,
   "metadata": {},
   "outputs": [
    {
     "data": {
      "text/plain": [
       "'/home/ubuntu/ohm-tree-filesys-tokyo/plasma-converter'"
      ]
     },
     "execution_count": 16,
     "metadata": {},
     "output_type": "execute_result"
    }
   ],
   "source": [
    "os.getcwd()"
   ]
  },
  {
   "cell_type": "code",
   "execution_count": 13,
   "metadata": {},
   "outputs": [],
   "source": [
    "os.chdir('/home/ubuntu/ohm-tree-filesys-tokyo/plasma-converter')"
   ]
  },
  {
   "cell_type": "code",
   "execution_count": 24,
   "metadata": {},
   "outputs": [
    {
     "name": "stdout",
     "output_type": "stream",
     "text": [
      "cmd_json {\"cmd\": \"import Mathlib\\nimport Aesop\\n\\nset_option maxHeartbeats 0\\n\\nopen BigOperators Real Nat Topology Rat\\n\\n\", \"allTactics\": true, \"tactics\": true}\n"
     ]
    },
    {
     "data": {
      "text/plain": [
       "<pexpect.pty_spawn.spawn at 0x7fab6c1ab940>"
      ]
     },
     "execution_count": 24,
     "metadata": {},
     "output_type": "execute_result"
    }
   ],
   "source": [
    "setup_repl()"
   ]
  },
  {
   "cell_type": "code",
   "execution_count": 51,
   "metadata": {},
   "outputs": [],
   "source": [
    "code = '''/-- If $f(x)=5x-12$, find a value for $x$ so that $f^{-1}(x)=f(x+1)$. Show that it is \\frac{47}{24}.-/\n",
    "theorem mathd_algebra_422 (x : ℝ) (σ : Equiv ℝ ℝ) (h₀ : ∀ x, σ.1 x = 5 * x - 12)\n",
    "  (h₁ : σ.1 (x + 1) = σ.2 x) : x = 47 / 24 := by\n",
    "  -- Simplify the given conditions using the properties of the function and its inverse.\n",
    "  simp_all [Equiv.eq_symm_apply, mul_add, mul_one, sub_eq_iff_eq_add, add_comm]\n",
    "  -- Apply the definition of the inverse function to get an equation involving σ.1 and σ.2.\n",
    "  apply_fun σ.1 at h₁\n",
    "  -- Normalize the equation to simplify it further.\n",
    "  ring_nf at h₁ ⊢\n",
    "  -- Simplify the equation using the definition of σ.1.\n",
    "  field_simp [h₀] at h₁ ⊢\n",
    "  -- Simplify the numerical constants in the equation.\n",
    "  -- Solve the linear equation to find the value of x.\n",
    "  linarith\n",
    "'''"
   ]
  },
  {
   "cell_type": "code",
   "execution_count": 52,
   "metadata": {},
   "outputs": [
    {
     "name": "stdout",
     "output_type": "stream",
     "text": [
      "/-- If $f(x)=5x-12$, find a value for $x$ so that $f^{-1}(x)=f(x+1)$. Show that it is \frac{47}{24}.-/\n",
      "theorem mathd_algebra_422 (x : ℝ) (σ : Equiv ℝ ℝ) (h₀ : ∀ x, σ.1 x = 5 * x - 12)\n",
      "  (h₁ : σ.1 (x + 1) = σ.2 x) : x = 47 / 24 := by\n",
      "  -- Simplify the given conditions using the properties of the function and its inverse.\n",
      "  simp_all [Equiv.eq_symm_apply, mul_add, mul_one, sub_eq_iff_eq_add, add_comm]\n",
      "  -- Apply the definition of the inverse function to get an equation involving σ.1 and σ.2.\n",
      "  apply_fun σ.1 at h₁\n",
      "  -- Normalize the equation to simplify it further.\n",
      "  ring_nf at h₁ ⊢\n",
      "  -- Simplify the equation using the definition of σ.1.\n",
      "  field_simp [h₀] at h₁ ⊢\n",
      "  -- Simplify the numerical constants in the equation.\n",
      "  -- Solve the linear equation to find the value of x.\n",
      "  linarith\n",
      "\n"
     ]
    }
   ],
   "source": [
    "print(code)"
   ]
  },
  {
   "cell_type": "code",
   "execution_count": 42,
   "metadata": {},
   "outputs": [],
   "source": [
    "code2 = '''\n",
    "/-- Find the greatest common factor of 180 and 168. Show that it is 12.-/\n",
    "theorem mathd_numbertheory_188 : Nat.gcd 180 168 = 12 := by\n",
    "  -- Use the recursive definition of the greatest common divisor to simplify the problem.\n",
    "  rw [Nat.gcd_rec]\n",
    "'''"
   ]
  },
  {
   "cell_type": "code",
   "execution_count": 78,
   "metadata": {},
   "outputs": [],
   "source": [
    "example = \"example : f = 2 := rfl\"\n",
    "example_def = \"def f : Nat := by have t := 37; exact t\""
   ]
  },
  {
   "cell_type": "code",
   "execution_count": 81,
   "metadata": {},
   "outputs": [
    {
     "name": "stdout",
     "output_type": "stream",
     "text": [
      "cmd_json {\"cmd\": \"\", \"allTactics\": true, \"tactics\": true}\n",
      "setup res\n",
      "{'env': 0, 'ast': []}\n",
      "compiling\n",
      "def f : Nat := by have t := 37; exact t\n",
      "cmd_json {\"cmd\": \"def f : Nat := by have t := 37; exact t\", \"allTactics\": true, \"tactics\": true, \"env\": 0}\n",
      "{'tactics': [{'tactic': 'have t := 37', 'proofState': 0, 'pos': {'line': 1, 'column': 18}, 'goals': '⊢ Nat', 'endPos': {'line': 1, 'column': 30}}, {'tactic': 'exact t', 'proofState': 1, 'pos': {'line': 1, 'column': 32}, 'goals': 't : Nat ⊢ Nat', 'endPos': {'line': 1, 'column': 39}}], 'env': 1, 'ast': []}\n"
     ]
    }
   ],
   "source": [
    "child = setup_repl()\n",
    "result = send_code_read_json({\n",
    "    \"cmd\": example_def,\n",
    "    \"allTactics\": True,\n",
    "    \"tactics\": True,\n",
    "    \"env\": 0\n",
    "}, _child=child)\n",
    "print(result)"
   ]
  },
  {
   "cell_type": "markdown",
   "metadata": {},
   "source": [
    "Try more basic code"
   ]
  },
  {
   "cell_type": "markdown",
   "metadata": {},
   "source": [
    "child = setup_repl()\n",
    "result = send_code_read_json({\n",
    "    \"cmd\": input_data['task'],\n",
    "    \"allTactics\": True,\n",
    "    \"tactics\": True,\n",
    "    \"env\": 0\n",
    "}, _child=child)"
   ]
  }
 ],
 "metadata": {
  "kernelspec": {
   "display_name": "Python 3",
   "language": "python",
   "name": "python3"
  },
  "language_info": {
   "codemirror_mode": {
    "name": "ipython",
    "version": 3
   },
   "file_extension": ".py",
   "mimetype": "text/x-python",
   "name": "python",
   "nbconvert_exporter": "python",
   "pygments_lexer": "ipython3",
   "version": "3.10.12"
  }
 },
 "nbformat": 4,
 "nbformat_minor": 2
}
