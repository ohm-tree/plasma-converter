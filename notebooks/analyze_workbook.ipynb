{
 "cells": [
  {
   "cell_type": "code",
   "execution_count": 1,
   "metadata": {},
   "outputs": [],
   "source": [
    "import json"
   ]
  },
  {
   "cell_type": "code",
   "execution_count": 12,
   "metadata": {},
   "outputs": [],
   "source": [
    "file_path = \"/home/ubuntu/plasma-converter/data/prover-llm_v0/lean_workbook_with_proofs.json\"\n",
    "with open(file_path, 'r') as f:\n",
    "    data = json.load(f)"
   ]
  },
  {
   "cell_type": "code",
   "execution_count": 15,
   "metadata": {},
   "outputs": [
    {
     "data": {
      "text/plain": [
       "[{'natural_language_statement': '$29\\\\cdot31+37-41\\\\equiv 3\\\\pmod{4}$',\n",
       "  'answer': '3',\n",
       "  'tags': ['number_theory', 'equation', 'modular_arithmetic'],\n",
       "  'formal_statement': 'theorem lean_workbook_18 : (29 * 31 + 37 - 41) % 4 = 3  :=  by \\n',\n",
       "  'split': 'lean_workbook',\n",
       "  'proof': ['simp [Nat.mod_lt]',\n",
       "   'simp only [Nat.add_mod_left, Nat.mod_eq_zero_of_dvd, dvd_pow]',\n",
       "   'simp only [Nat.gcd_add_self_right]',\n",
       "   'simp only [Nat.add_mod, Nat.mul_mod, Nat.mod_mod]',\n",
       "   'simp only [Nat.mod_add_div]',\n",
       "   'exact (by norm_num : (29 * 31 + 37 - 41) % 4 = 3)',\n",
       "   'simp only [Nat.mul_comm, Nat.mul_assoc, Nat.mul_left_comm]',\n",
       "   'norm_num [Int.add_emod]',\n",
       "   'simp only [Nat.mul_mod_right]',\n",
       "   'simp only [add_comm]',\n",
       "   'simp only [Nat.gcd]',\n",
       "   'simp only [Nat.mod_eq_zero_of_dvd, dvd_pow]',\n",
       "   'simp only [Nat.mul_mod, Nat.mod_mod]',\n",
       "   'simp [Mod.mod]',\n",
       "   'simp only [Nat.add_comm, Nat.add_left_comm, Nat.add_assoc, Nat.mul_comm, Nat.mul_left_comm, Nat.mul_assoc, Nat.sub_sub]',\n",
       "   'simp only [Nat.add_comm, Nat.add_left_comm]',\n",
       "   'simp only [Nat.add_sub_assoc, Nat.mod_self]',\n",
       "   'simp only [mod_eq_sub_mod]',\n",
       "   'norm_num [Nat.mod_eq_of_lt]',\n",
       "   'simp only [Nat.add_mod, Nat.mul_mod, Nat.mod_mod, Nat.mod_eq_zero_of_dvd]',\n",
       "   'exact Nat.mod_mod 3 4',\n",
       "   'norm_num [Nat.mul_mod, Nat.add_mod, Nat.mod_mod]',\n",
       "   'simp only [Nat.mod_mod]',\n",
       "   'exact rfl',\n",
       "   'simp only [Nat.add_sub_assoc]']},\n",
       " {'natural_language_statement': 'Prove that $x-1 \\\\geq \\\\ln x$ for $x>0$.',\n",
       "  'answer': '',\n",
       "  'tags': ['inequality', 'logarithm', 'calculus'],\n",
       "  'formal_statement': 'theorem lean_workbook_26 (x : ℝ) (hx : 0 < x) : x - 1 ≥ Real.log x  :=  by \\n',\n",
       "  'split': 'lean_workbook',\n",
       "  'proof': ['have h1 : 0 ≤ (x - 1)^2 := sq_nonneg (x - 1)\\nnlinarith [log_le_sub_one_of_pos hx]',\n",
       "   'nlinarith [log_le_sub_one_of_pos hx]',\n",
       "   'rw [ge_iff_le]\\nsimpa using log_le_sub_one_of_pos hx',\n",
       "   'have := log_le_sub_one_of_pos hx\\nlinarith [this]',\n",
       "   'nlinarith [Real.log_le_sub_one_of_pos (by linarith : 0 < x)]',\n",
       "   'nlinarith [log_le_sub_one_of_pos (by assumption : 0 < x)]',\n",
       "   'have := log_le_sub_one_of_pos hx\\nlinarith',\n",
       "   'nlinarith [Real.log_le_sub_one_of_pos hx]',\n",
       "   'have h1 : 0 ≤ (x - 1) ^ 2 := sq_nonneg (x - 1)\\nrw [pow_two] at h1\\nnlinarith [log_le_sub_one_of_pos hx]',\n",
       "   'linarith [log_le_sub_one_of_pos hx]',\n",
       "   'rw [ge_iff_le]\\nexact log_le_sub_one_of_pos hx',\n",
       "   'rw [ge_iff_le]\\nnlinarith [log_le_sub_one_of_pos hx]',\n",
       "   'linarith only [log_le_sub_one_of_pos hx]',\n",
       "   'have h1 : 0 ≤ (x - 1) ^ 2 := sq_nonneg (x - 1)\\nnlinarith [Real.log_le_sub_one_of_pos hx]',\n",
       "   'nlinarith [Real.log_le_sub_one_of_pos (by positivity : 0 < x)]']}]"
      ]
     },
     "execution_count": 15,
     "metadata": {},
     "output_type": "execute_result"
    }
   ],
   "source": [
    "data[:2]"
   ]
  },
  {
   "cell_type": "code",
   "execution_count": 16,
   "metadata": {},
   "outputs": [],
   "source": [
    "max_proof_length = max([max(pf.count('\\n') for pf in problem['proof']) for problem in data])"
   ]
  },
  {
   "cell_type": "code",
   "execution_count": 24,
   "metadata": {},
   "outputs": [],
   "source": [
    "proof_lens = [min(pf.count('\\n') for pf in problem['proof']) for problem in data]"
   ]
  },
  {
   "cell_type": "code",
   "execution_count": 28,
   "metadata": {},
   "outputs": [
    {
     "data": {
      "text/plain": [
       "(array([8.868e+03, 2.548e+03, 7.510e+02, 0.000e+00, 3.670e+02, 1.610e+02,\n",
       "        5.600e+01, 0.000e+00, 2.400e+01, 1.400e+01, 1.000e+01, 0.000e+00,\n",
       "        1.200e+01, 2.000e+00, 2.000e+00, 0.000e+00, 4.000e+00, 1.000e+00,\n",
       "        2.000e+00, 1.000e+00]),\n",
       " array([ 0.  ,  0.75,  1.5 ,  2.25,  3.  ,  3.75,  4.5 ,  5.25,  6.  ,\n",
       "         6.75,  7.5 ,  8.25,  9.  ,  9.75, 10.5 , 11.25, 12.  , 12.75,\n",
       "        13.5 , 14.25, 15.  ]),\n",
       " <BarContainer object of 20 artists>)"
      ]
     },
     "execution_count": 28,
     "metadata": {},
     "output_type": "execute_result"
    },
    {
     "data": {
      "image/png": "[encoded data removed]",
      "text/plain": [
       "<Figure size 640x480 with 1 Axes>"
      ]
     },
     "metadata": {},
     "output_type": "display_data"
    }
   ],
   "source": [
    "# histogram of proof_lens\n",
    "import matplotlib.pyplot as plt\n",
    "import numpy as np\n",
    "\n",
    "plt.hist(proof_lens, bins=20)"
   ]
  },
  {
   "cell_type": "code",
   "execution_count": 26,
   "metadata": {},
   "outputs": [
    {
     "data": {
      "text/plain": [
       "15"
      ]
     },
     "execution_count": 26,
     "metadata": {},
     "output_type": "execute_result"
    }
   ],
   "source": [
    "max(proof_lens)"
   ]
  },
  {
   "cell_type": "code",
   "execution_count": 36,
   "metadata": {},
   "outputs": [],
   "source": [
    "from pprint import pprint"
   ]
  },
  {
   "cell_type": "code",
   "execution_count": 37,
   "metadata": {},
   "outputs": [
    {
     "name": "stdout",
     "output_type": "stream",
     "text": [
      "i 6024\n",
      "theorem lean_workbook_plus_11526 (a b c : ℝ) : (a^2 + b^2 + a * b) * (b^2 + c^2 + b * c) * (c^2 + a^2 + c * a) ≥ 3 * (a * b^2 + b * c^2 + c * a^2) * (a^2 * b + b^2 * c + c^2 * a)   :=  by \n",
      "\n",
      "1\n",
      "['have := sq_nonneg ((b - a) * (c - b) * (a - c))\\n'\n",
      " 'have := sq_nonneg ((a + b + c) * (a^2 + b^2 + c^2 - a * b - b * c - c * a))\\n'\n",
      " 'have := sq_nonneg ((a^2 + b^2 + c^2) * (a^3 + b^3 + c^3 - a^2 * b - b^2 * c '\n",
      " '- c^2 * a) - (a + b + c) * (a^2 * b^2 + b^2 * c^2 + c^2 * a^2 - a^2 * b * '\n",
      " 'c))\\n'\n",
      " 'have := sq_nonneg ((a^5 + b^5 + c^5 - a^2 * b^3 - b^2 * c^3 - c^2 * a^3) * '\n",
      " '(a + b + c) - (a^3 + b^3 + c^3 - a^2 * b - b^2 * c - c^2 * a) * (a^2 + b^2 + '\n",
      " 'c^2))\\n'\n",
      " 'have := sq_nonneg ((a^3 + b^3 + c^3) * (a^2 * b + b^2 * c + c^2 * a) - (a^2 '\n",
      " '+ b^2 + c^2) * (a * b^2 + b * c^2 + c * a^2))\\n'\n",
      " 'have := sq_nonneg ((a^2 * b + b^2 * c + c^2 * a) * (a * b^2 + b * c^2 + c * '\n",
      " 'a^2) - (a * b * c) * (a^3 + b^3 + c^3))\\n'\n",
      " 'have := sq_nonneg ((a * b * c) * (a^3 + b^3 + c^3) - (a^2 + b^2 + c^2) * '\n",
      " '(a^2 * b^2 + b^2 * c^2 + c^2 * a^2))\\n'\n",
      " 'have := sq_nonneg ((a^2 * b^2 + b^2 * c^2 + c^2 * a^2) * (a^3 + b^3 + c^3) - '\n",
      " '(a * b * c) * (a^4 + b^4 + c^4))\\n'\n",
      " 'have := sq_nonneg ((a * b * c) * (a^4 + b^4 + c^4) - (a^2 * b * c + b^2 * c '\n",
      " '* a + c^2 * a * b) * (a^2 + b^2 + c^2))\\n'\n",
      " 'have := sq_nonneg (a^2 * b * c + b^2 * c * a + c^2 * a * b - a * b * c * (a '\n",
      " '+ b + c))\\n'\n",
      " 'have := sq_nonneg (a * b^2 + b * c^2 + c * a^2 - (a + b + c) * (a * b * c))\\n'\n",
      " 'have := sq_nonneg (a^2 * b^2 + b^2 * c^2 + c^2 * a^2 - (a^2 * b * c + b^2 * '\n",
      " 'c * a + c^2 * a * b))\\n'\n",
      " 'have := sq_nonneg (a^3 + b^3 + c^3 - (a^2 * b + b^2 * c + c^2 * a))\\n'\n",
      " 'have := sq_nonneg (a^4 + b^4 + c^4 - (a * b^2 + b * c^2 + c * a^2))\\n'\n",
      " 'have := sq_nonneg (a^5 + b^5 + c^5 - (a^2 * b^3 + b^2 * c^3 + c^2 * a^3))\\n'\n",
      " 'linarith']\n"
     ]
    }
   ],
   "source": [
    "for i, problem in enumerate(data):\n",
    "    if min(pf.count('\\n') for pf in problem['proof']) == 15:\n",
    "        print(\"i\", i)\n",
    "        print(data[i]['formal_statement'])\n",
    "        print(len(data[i]['proof']))\n",
    "        pprint(data[i]['proof'])\n",
    "        break"
   ]
  }
 ],
 "metadata": {
  "kernelspec": {
   "display_name": "deepseek-kernel",
   "language": "python",
   "name": "deepseek"
  },
  "language_info": {
   "codemirror_mode": {
    "name": "ipython",
    "version": 3
   },
   "file_extension": ".py",
   "mimetype": "text/x-python",
   "name": "python",
   "nbconvert_exporter": "python",
   "pygments_lexer": "ipython3",
   "version": "3.10.14"
  }
 },
 "nbformat": 4,
 "nbformat_minor": 2
}
